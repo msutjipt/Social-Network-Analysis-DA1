{
 "cells": [
  {
   "cell_type": "markdown",
   "id": "2fb6541afc2b4834",
   "metadata": {},
   "source": [
    "# Social Netwotk Analysis - Popularity Metrics\n",
    "This notebook will delve deeper into the network structure of the provided social network. The main subject of this notebook is to determine popular nodes."
   ]
  },
  {
   "cell_type": "markdown",
   "id": "a18ebf6986882f4b",
   "metadata": {},
   "source": [
    "# Approach\n",
    "In order to analyze the network structure several approaches will be tested an evaluated.\n",
    "Therefore, the following approach will be applied:\n",
    "\n",
    "1. Loading the data\n",
    "   1. Imports\n",
    "   2. Loading Network\n",
    "   3. Visual Impression\n",
    "2. Calculating modularity metrics\n",
    "   1. Calculation\n",
    "   2. Visualization\n"
   ]
  },
  {
   "cell_type": "markdown",
   "id": "fa356acb6a665941",
   "metadata": {},
   "source": "# 1. Loading the data"
  },
  {
   "cell_type": "markdown",
   "id": "249f45e90fdb46e7",
   "metadata": {},
   "source": "## 1.1 Imports"
  },
  {
   "cell_type": "code",
   "execution_count": 14,
   "id": "2eae3ae8d6c85092",
   "metadata": {
    "ExecuteTime": {
     "end_time": "2025-01-26T17:12:24.165102Z",
     "start_time": "2025-01-26T17:12:24.163185Z"
    }
   },
   "outputs": [],
   "source": [
    "import pandas as pd\n",
    "import networkx as nx\n",
    "\n",
    "from igraph import (\n",
    "    Graph,\n",
    "    plot,\n",
    ")"
   ]
  },
  {
   "cell_type": "markdown",
   "id": "93bf3726d01c63f2",
   "metadata": {},
   "source": "## 1.2 Load Network"
  },
  {
   "cell_type": "code",
   "execution_count": 15,
   "id": "52662086001d96e9",
   "metadata": {
    "ExecuteTime": {
     "end_time": "2025-01-26T17:12:51.225755Z",
     "start_time": "2025-01-26T17:12:51.189143Z"
    }
   },
   "outputs": [],
   "source": [
    "# Load network as Pandas DataFrame\n",
    "df_network = pd.read_csv(\n",
    "    \"../data/graph.csv\",\n",
    "    delimiter=\",\",\n",
    ")\n",
    "df_nodes = pd.read_csv(\n",
    "    \"../data/nodes.csv\",\n",
    "    delimiter=\",\",\n",
    ")"
   ]
  },
  {
   "cell_type": "code",
   "execution_count": 4,
   "id": "419d5dcec47ffb5e",
   "metadata": {
    "ExecuteTime": {
     "end_time": "2025-01-26T13:31:22.717625Z",
     "start_time": "2025-01-26T13:31:22.620431Z"
    }
   },
   "outputs": [
    {
     "name": "stdout",
     "output_type": "stream",
     "text": [
      "Graph with 46849 nodes and 94884 edges\n"
     ]
    }
   ],
   "source": [
    "# Convert network into a networkX Object\n",
    "x_network = nx.from_pandas_edgelist(\n",
    "    df_network,\n",
    "    \"source\",\n",
    "    \"target\",\n",
    ")\n",
    "print(x_network)"
   ]
  },
  {
   "cell_type": "code",
   "execution_count": 5,
   "id": "81ede4ea6b6af327",
   "metadata": {
    "ExecuteTime": {
     "end_time": "2025-01-26T13:31:24.901152Z",
     "start_time": "2025-01-26T13:31:24.845771Z"
    }
   },
   "outputs": [
    {
     "name": "stdout",
     "output_type": "stream",
     "text": [
      "IGRAPH U--- 46849 94884 -- \n",
      "+ attr: _nx_name (v)\n"
     ]
    }
   ],
   "source": [
    "# Convert network into an igraph object\n",
    "# NOTE: IGraph will be mainly used to conduct tasks with a high computational complexity,\n",
    "# since this library is implemented in C\n",
    "igraph_graph = Graph.from_networkx(\n",
    "    x_network\n",
    ")\n",
    "print(\n",
    "    igraph_graph.summary()\n",
    ")"
   ]
  },
  {
   "cell_type": "markdown",
   "id": "1bb5cb90465cd0da",
   "metadata": {},
   "source": "## 1.3 Create a simple plot of the Network"
  },
  {
   "cell_type": "markdown",
   "id": "feba314783b1aa40",
   "metadata": {},
   "source": [
    "Use IGraph instead of NetworkX --> Plot in 40 Seconds instead of 2 Hours <br>\n",
    "Note: You will need to install PyCairo to use the plotting functionality of IGraph <br>\n",
    "\n",
    "PyCairo depends on the local installation of pkg-config, cairo and CMake on your local computer!"
   ]
  },
  {
   "cell_type": "code",
   "execution_count": null,
   "id": "975baca8e4f0dbd4",
   "metadata": {
    "jupyter": {
     "is_executing": true
    }
   },
   "outputs": [],
   "source": [
    "# Let IGraph determine the best fitting layout\n",
    "layout = igraph_graph.layout(\n",
    "    \"auto\"\n",
    ")\n",
    "\n",
    "plot(\n",
    "    igraph_graph,\n",
    "    layout=layout,\n",
    "    vertex_size=5,\n",
    "    edge_width=0.1,\n",
    "    bbox=(500, 500),\n",
    ")"
   ]
  },
  {
   "cell_type": "markdown",
   "id": "e024d5134a8c5285",
   "metadata": {},
   "source": [
    "\n",
    "**First Visual Impression**: The plot already displays a large number of small communities with overlapping nodes, whereas most nodes have edges pointing into the center. It seems that a large cluster has formed in the center."
   ]
  },
  {
   "cell_type": "markdown",
   "id": "cff224afe320fdc0",
   "metadata": {},
   "source": [
    "# 2. Popularity Metrics\n",
    "In this section the following five popularity metrics from lecture will be calculated and visualized:\n",
    "\n",
    "1. Degree Centrality\n",
    "2. Eigenvector Centrality\n",
    "3. Page Rank Centrality\n",
    "4. Betweeness Centrality\n",
    "5. Edge Betweeness Centrality\n",
    "6. Closeness Centrality"
   ]
  },
  {
   "cell_type": "markdown",
   "id": "24204afe3fcfb313",
   "metadata": {},
   "source": "## 2.1 Calculation\n"
  },
  {
   "cell_type": "code",
   "execution_count": 29,
   "id": "ba046121821a8a3",
   "metadata": {
    "ExecuteTime": {
     "end_time": "2025-01-26T18:47:52.724578Z",
     "start_time": "2025-01-26T18:47:52.712181Z"
    }
   },
   "outputs": [
    {
     "name": "stdout",
     "output_type": "stream",
     "text": [
      "4.05063074985592\n"
     ]
    }
   ],
   "source": [
    "# Calculate average degree for the whole network\n",
    "degree_nodes = dict(\n",
    "    x_network.degree()\n",
    ")\n",
    "avg_degree = sum(\n",
    "    degree_nodes.values()\n",
    ") / len(\n",
    "    degree_nodes\n",
    ")\n",
    "print(avg_degree)"
   ]
  },
  {
   "cell_type": "code",
   "execution_count": 33,
   "id": "bba66d06b09758c8",
   "metadata": {
    "ExecuteTime": {
     "end_time": "2025-01-26T18:50:20.865073Z",
     "start_time": "2025-01-26T18:50:20.852083Z"
    }
   },
   "outputs": [],
   "source": [
    "# Calculation of the Degree Centrality\n",
    "degree_centrality = nx.degree_centrality(\n",
    "    x_network\n",
    ")"
   ]
  },
  {
   "cell_type": "code",
   "execution_count": 32,
   "id": "1eb29082e3b8d759",
   "metadata": {
    "ExecuteTime": {
     "end_time": "2025-01-26T18:50:15.530077Z",
     "start_time": "2025-01-26T18:50:07.496063Z"
    }
   },
   "outputs": [],
   "source": [
    "# Calculation of the Eigenvector Centrality\n",
    "eigenvector_centrality = nx.eigenvector_centrality(\n",
    "    x_network,\n",
    "    max_iter=1000,\n",
    "    weight=\"weight\",\n",
    ")"
   ]
  },
  {
   "cell_type": "code",
   "execution_count": 31,
   "id": "fe07e67536822a5f",
   "metadata": {
    "ExecuteTime": {
     "end_time": "2025-01-26T18:50:06.053089Z",
     "start_time": "2025-01-26T18:50:05.973454Z"
    }
   },
   "outputs": [],
   "source": [
    "# Calculation of the Page Rank Centrality\n",
    "page_rank_centrality = nx.pagerank(\n",
    "    x_network,\n",
    "    weight=\"weight\",\n",
    ")"
   ]
  },
  {
   "cell_type": "code",
   "execution_count": 28,
   "id": "2a5e56a7a905e206",
   "metadata": {
    "ExecuteTime": {
     "end_time": "2025-01-26T18:47:21.879743Z",
     "start_time": "2025-01-26T18:46:29.271427Z"
    }
   },
   "outputs": [],
   "source": [
    "# Calculation of the Betweeness Centrality\n",
    "# Use IGraph instead of NetworkX, since computations are handled in C\n",
    "betweeness_values = igraph_graph.betweenness(\n",
    "    directed=False\n",
    ")\n",
    "\n",
    "# Store list of betweeness values in a dict with their corresponding user_id\n",
    "betweeness_centrality = {\n",
    "    igraph_graph.vs[\n",
    "        i\n",
    "    ][\n",
    "        \"_nx_name\"\n",
    "    ]: betweeness_values[\n",
    "        i\n",
    "    ]\n",
    "    for i in range(\n",
    "        len(\n",
    "            betweeness_values\n",
    "        )\n",
    "    )\n",
    "}"
   ]
  },
  {
   "cell_type": "code",
   "execution_count": 30,
   "id": "87db70abb52cda90",
   "metadata": {
    "ExecuteTime": {
     "end_time": "2025-01-26T18:50:05.585407Z",
     "start_time": "2025-01-26T18:49:42.262479Z"
    }
   },
   "outputs": [],
   "source": [
    "# Calculation of the Closeness Centrality\n",
    "# Use IGraph instead of NetworkX, since computations are handled in C\n",
    "closeness_values = igraph_graph.closeness()\n",
    "\n",
    "# Store list of closeness values in a dict with their corresponding user_id\n",
    "closeness_centrality = {\n",
    "    igraph_graph.vs[\n",
    "        i\n",
    "    ][\n",
    "        \"_nx_name\"\n",
    "    ]: closeness_values[\n",
    "        i\n",
    "    ]\n",
    "    for i in range(\n",
    "        len(\n",
    "            closeness_values\n",
    "        )\n",
    "    )\n",
    "}"
   ]
  },
  {
   "cell_type": "code",
   "execution_count": 34,
   "id": "73a259fb31a01206",
   "metadata": {
    "ExecuteTime": {
     "end_time": "2025-01-26T18:50:25.324233Z",
     "start_time": "2025-01-26T18:50:25.174873Z"
    }
   },
   "outputs": [],
   "source": [
    "# Store popularity metrics in a dataframe\n",
    "df_popularity = pd.DataFrame(\n",
    "    {\n",
    "        \"user_id\": list(\n",
    "            x_network.nodes\n",
    "        ),\n",
    "        \"degree_centrality\": list(\n",
    "            degree_centrality.values()\n",
    "        ),\n",
    "        \"eigenvector_centrality\": list(\n",
    "            eigenvector_centrality.values()\n",
    "        ),\n",
    "        \"page_rank_centrality\": list(\n",
    "            page_rank_centrality.values()\n",
    "        ),\n",
    "        \"betweenness_centrality\": list(\n",
    "            betweeness_centrality.values()\n",
    "        ),\n",
    "        \"closeness_centrality\": list(\n",
    "            closeness_centrality.values()\n",
    "        ),\n",
    "    }\n",
    ")\n",
    "\n",
    "# Merge with node.csv to receiver usernames as well\n",
    "df_merged = pd.merge(\n",
    "    df_nodes,\n",
    "    df_popularity,\n",
    "    on=\"user_id\",\n",
    ")\n",
    "\n",
    "# Store CSV in data folder\n",
    "# df_merged.to_csv(\"../data/nodes_popularity_metrics.csv\", index=False, sep=\",\")"
   ]
  },
  {
   "cell_type": "markdown",
   "id": "3dc241adb705b3e5",
   "metadata": {},
   "source": [
    "## 2.2 Visualization\n",
    "To see where in the network popular nodes are located, we will visualize the top 10 users w.r.t the popularity metric.\n",
    "\n",
    "**Spoiler**: No significant result"
   ]
  },
  {
   "cell_type": "code",
   "execution_count": 28,
   "id": "4c4dbbd9413b2a73",
   "metadata": {
    "ExecuteTime": {
     "end_time": "2025-01-25T17:30:01.133164Z",
     "start_time": "2025-01-25T17:30:01.093976Z"
    }
   },
   "outputs": [],
   "source": [
    "# Visualize Top 10 Users with the highest Degree Centrality\n",
    "top_10_users_degree = df_popularity.nlargest(\n",
    "    10,\n",
    "    \"degree_centrality\",\n",
    ")[\n",
    "    \"user_id\"\n",
    "].tolist()\n",
    "node_colors = [\n",
    "    \"blue\"\n",
    "    if igraph_graph.vs[\n",
    "        i\n",
    "    ][\"_nx_name\"]\n",
    "    in top_10_users_degree\n",
    "    else \"gray\"\n",
    "    for i in range(\n",
    "        len(\n",
    "            igraph_graph.vs\n",
    "        )\n",
    "    )\n",
    "]\n",
    "node_sizes = [\n",
    "    20\n",
    "    if igraph_graph.vs[\n",
    "        i\n",
    "    ][\"_nx_name\"]\n",
    "    in top_10_users_degree\n",
    "    else 5\n",
    "    for i in range(\n",
    "        len(\n",
    "            igraph_graph.vs\n",
    "        )\n",
    "    )\n",
    "]\n",
    "\n",
    "# The figure can be found in the directory ../docs/degree_plot.png\n",
    "# The visualization in this notebook would consume too much space\n",
    "\n",
    "# plot(\n",
    "#    igraph_graph,\n",
    "#    layout=igraph_graph.layout(\n",
    "#        \"auto\"\n",
    "#    ),\n",
    "#    vertex_color=node_colors,\n",
    "#    vertex_size=node_sizes,\n",
    "#    edge_width=0.1,\n",
    "#    bbox=(100, 100),\n",
    "# )"
   ]
  },
  {
   "cell_type": "code",
   "execution_count": 29,
   "id": "e95fed5664aaacce",
   "metadata": {
    "ExecuteTime": {
     "end_time": "2025-01-25T17:30:05.393892Z",
     "start_time": "2025-01-25T17:30:05.360227Z"
    }
   },
   "outputs": [],
   "source": [
    "# Visualize Top 10 Users with the highest Eigenvector Centrality\n",
    "top_10_users_ev = df_popularity.nlargest(\n",
    "    10,\n",
    "    \"eigenvector_centrality\",\n",
    ")[\n",
    "    \"user_id\"\n",
    "].tolist()\n",
    "node_colors = [\n",
    "    \"yellow\"\n",
    "    if igraph_graph.vs[\n",
    "        i\n",
    "    ][\"_nx_name\"]\n",
    "    in top_10_users_ev\n",
    "    else \"gray\"\n",
    "    for i in range(\n",
    "        len(\n",
    "            igraph_graph.vs\n",
    "        )\n",
    "    )\n",
    "]\n",
    "node_sizes = [\n",
    "    20\n",
    "    if igraph_graph.vs[\n",
    "        i\n",
    "    ][\"_nx_name\"]\n",
    "    in top_10_users_ev\n",
    "    else 5\n",
    "    for i in range(\n",
    "        len(\n",
    "            igraph_graph.vs\n",
    "        )\n",
    "    )\n",
    "]\n",
    "\n",
    "# The figure can be found in the directory ../docs/eigenvector_plot.png\n",
    "# The visualization in this notebook would consume too much space\n",
    "\n",
    "# plot(\n",
    "#    igraph_graph,\n",
    "#    layout=igraph_graph.layout(\n",
    "#        \"auto\"\n",
    "#    ),\n",
    "#    vertex_color=node_colors,\n",
    "#    vertex_size=node_sizes,\n",
    "#    edge_width=0.1,\n",
    "#    bbox=(100, 100),\n",
    "# )"
   ]
  },
  {
   "cell_type": "code",
   "execution_count": 30,
   "id": "4fafaa3a89efed26",
   "metadata": {
    "ExecuteTime": {
     "end_time": "2025-01-25T17:30:13.839021Z",
     "start_time": "2025-01-25T17:30:13.806337Z"
    }
   },
   "outputs": [],
   "source": [
    "# Visualize Top 10 Users with the highest PageRank Centrality\n",
    "top_10_users_pr = df_popularity.nlargest(\n",
    "    10,\n",
    "    \"page_rank_centrality\",\n",
    ")[\n",
    "    \"user_id\"\n",
    "].tolist()\n",
    "node_colors = [\n",
    "    \"green\"\n",
    "    if igraph_graph.vs[\n",
    "        i\n",
    "    ][\"_nx_name\"]\n",
    "    in top_10_users_pr\n",
    "    else \"gray\"\n",
    "    for i in range(\n",
    "        len(\n",
    "            igraph_graph.vs\n",
    "        )\n",
    "    )\n",
    "]\n",
    "node_sizes = [\n",
    "    20\n",
    "    if igraph_graph.vs[\n",
    "        i\n",
    "    ][\"_nx_name\"]\n",
    "    in top_10_users_pr\n",
    "    else 5\n",
    "    for i in range(\n",
    "        len(\n",
    "            igraph_graph.vs\n",
    "        )\n",
    "    )\n",
    "]\n",
    "\n",
    "# The figure can be found in the directory ../docs/page_rank_plot.png\n",
    "# The visualization in this notebook would consume too much space\n",
    "\n",
    "# plot(\n",
    "#    igraph_graph,\n",
    "#    layout=igraph_graph.layout(\n",
    "#        \"auto\"\n",
    "#    ),\n",
    "#    vertex_color=node_colors,\n",
    "#    vertex_size=node_sizes,\n",
    "#    edge_width=0.1,\n",
    "#    bbox=(100, 100),\n",
    "# )"
   ]
  },
  {
   "cell_type": "code",
   "execution_count": 31,
   "id": "dd8136400c718acb",
   "metadata": {
    "ExecuteTime": {
     "end_time": "2025-01-25T17:30:18.759302Z",
     "start_time": "2025-01-25T17:30:18.726544Z"
    }
   },
   "outputs": [],
   "source": [
    "# Visualize Top 10 Users with the highest Betweenness Centrality\n",
    "top_10_users_betw = df_popularity.nlargest(\n",
    "    10,\n",
    "    \"betweenness_centrality\",\n",
    ")[\n",
    "    \"user_id\"\n",
    "].tolist()\n",
    "node_colors = [\n",
    "    \"orange\"\n",
    "    if igraph_graph.vs[\n",
    "        i\n",
    "    ][\"_nx_name\"]\n",
    "    in top_10_users_betw\n",
    "    else \"gray\"\n",
    "    for i in range(\n",
    "        len(\n",
    "            igraph_graph.vs\n",
    "        )\n",
    "    )\n",
    "]\n",
    "node_sizes = [\n",
    "    20\n",
    "    if igraph_graph.vs[\n",
    "        i\n",
    "    ][\"_nx_name\"]\n",
    "    in top_10_users_betw\n",
    "    else 5\n",
    "    for i in range(\n",
    "        len(\n",
    "            igraph_graph.vs\n",
    "        )\n",
    "    )\n",
    "]\n",
    "\n",
    "# The figure can be found in the directory ../docs/betweenness_plot.png\n",
    "# The visualization in this notebook would consume too much space\n",
    "\n",
    "# plot(\n",
    "#    igraph_graph,\n",
    "#    layout=igraph_graph.layout(\n",
    "#        \"auto\"\n",
    "#    ),\n",
    "#    vertex_color=node_colors,\n",
    "#    vertex_size=node_sizes,\n",
    "#    edge_width=0.1,\n",
    "#    bbox=(100, 100),\n",
    "# )"
   ]
  },
  {
   "cell_type": "code",
   "execution_count": 32,
   "id": "e12d0d5d7058167a",
   "metadata": {
    "ExecuteTime": {
     "end_time": "2025-01-25T17:30:21.583197Z",
     "start_time": "2025-01-25T17:30:21.551332Z"
    }
   },
   "outputs": [],
   "source": [
    "# Visualize Top 10 Users with the highest Closeness Centrality\n",
    "top_10_users_close = df_popularity.nlargest(\n",
    "    10,\n",
    "    \"closeness_centrality\",\n",
    ")[\n",
    "    \"user_id\"\n",
    "].tolist()\n",
    "node_colors = [\n",
    "    \"red\"\n",
    "    if igraph_graph.vs[\n",
    "        i\n",
    "    ][\"_nx_name\"]\n",
    "    in top_10_users_close\n",
    "    else \"gray\"\n",
    "    for i in range(\n",
    "        len(\n",
    "            igraph_graph.vs\n",
    "        )\n",
    "    )\n",
    "]\n",
    "node_sizes = [\n",
    "    20\n",
    "    if igraph_graph.vs[\n",
    "        i\n",
    "    ][\"_nx_name\"]\n",
    "    in top_10_users_close\n",
    "    else 5\n",
    "    for i in range(\n",
    "        len(\n",
    "            igraph_graph.vs\n",
    "        )\n",
    "    )\n",
    "]\n",
    "\n",
    "# The figure can be found in the directory ../docs/closeness_plot.png\n",
    "# The visualization in this notebook would consume too much space\n",
    "\n",
    "# plot(\n",
    "#    igraph_graph,\n",
    "#    layout=igraph_graph.layout(\n",
    "#        \"auto\"\n",
    "#    ),\n",
    "#    vertex_color=node_colors,\n",
    "#    vertex_size=node_sizes,\n",
    "#    edge_width=0.1,\n",
    "#    bbox=(100, 100),\n",
    "# )"
   ]
  }
 ],
 "metadata": {
  "kernelspec": {
   "display_name": "Python 3",
   "language": "python",
   "name": "python3"
  },
  "language_info": {
   "codemirror_mode": {
    "name": "ipython",
    "version": 2
   },
   "file_extension": ".py",
   "mimetype": "text/x-python",
   "name": "python",
   "nbconvert_exporter": "python",
   "pygments_lexer": "ipython2",
   "version": "2.7.6"
  }
 },
 "nbformat": 4,
 "nbformat_minor": 5
}
