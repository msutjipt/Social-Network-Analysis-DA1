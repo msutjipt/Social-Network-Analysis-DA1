{
 "cells": [
  {
   "cell_type": "markdown",
   "id": "2fb6541afc2b4834",
   "metadata": {},
   "source": [
    "# Social Netwotk Analysis - Analysis of the Network Structure\n",
    "This notebook will delve deeper into the network structure of the provided social network. The main subject of this notebook is to analyze the network from a visual perspective and to determine popular nodes."
   ]
  },
  {
   "cell_type": "markdown",
   "id": "a18ebf6986882f4b",
   "metadata": {},
   "source": [
    "# Approach\n",
    "In order to analyze the network structure several approaches will be tested an evaluated.\n",
    "Therefore, the following approach will be applied:\n",
    "\n",
    "1. Loading the data\n",
    "   1. Imports\n",
    "   2. Loading Network\n",
    "   3. Visual Impression\n",
    "2. Calculating modularity metrics\n",
    "   1. Calculation\n",
    "   2. Visualization\n"
   ]
  },
  {
   "cell_type": "markdown",
   "id": "fa356acb6a665941",
   "metadata": {},
   "source": "# 1. Loading the data"
  },
  {
   "cell_type": "markdown",
   "id": "249f45e90fdb46e7",
   "metadata": {},
   "source": "## 1.1 Imports"
  },
  {
   "cell_type": "code",
   "execution_count": 1,
   "id": "2eae3ae8d6c85092",
   "metadata": {
    "ExecuteTime": {
     "end_time": "2025-01-25T16:52:30.207632Z",
     "start_time": "2025-01-25T16:52:28.381487Z"
    }
   },
   "outputs": [
    {
     "name": "stderr",
     "output_type": "stream",
     "text": [
      "/Users/marcsutjipto/Library/Caches/pypoetry/virtualenvs/social-network-analysis-da1-l7-7zz-t-py3.12/lib/python3.12/site-packages/tqdm/auto.py:21: TqdmWarning: IProgress not found. Please update jupyter and ipywidgets. See https://ipywidgets.readthedocs.io/en/stable/user_install.html\n",
      "  from .autonotebook import tqdm as notebook_tqdm\n"
     ]
    }
   ],
   "source": [
    "import pandas as pd\n",
    "import networkx as nx\n",
    "\n",
    "from igraph import (\n",
    "    Graph,\n",
    "    plot,\n",
    ")"
   ]
  },
  {
   "cell_type": "markdown",
   "id": "93bf3726d01c63f2",
   "metadata": {},
   "source": "## 1.2 Load Network"
  },
  {
   "cell_type": "code",
   "execution_count": 2,
   "id": "52662086001d96e9",
   "metadata": {
    "ExecuteTime": {
     "end_time": "2025-01-25T16:52:31.765307Z",
     "start_time": "2025-01-25T16:52:31.737680Z"
    }
   },
   "outputs": [],
   "source": [
    "# Load network as Pandas DataFrame\n",
    "df_network = pd.read_csv(\n",
    "    \"../data/graph.csv\",\n",
    "    delimiter=\",\",\n",
    ")\n",
    "df_nodes = pd.read_csv(\n",
    "    \"../data/nodes.csv\",\n",
    "    delimiter=\",\",\n",
    ")"
   ]
  },
  {
   "cell_type": "code",
   "execution_count": 3,
   "id": "419d5dcec47ffb5e",
   "metadata": {
    "ExecuteTime": {
     "end_time": "2025-01-25T16:52:33.296280Z",
     "start_time": "2025-01-25T16:52:33.195095Z"
    }
   },
   "outputs": [
    {
     "name": "stdout",
     "output_type": "stream",
     "text": [
      "Graph with 46849 nodes and 94884 edges\n"
     ]
    }
   ],
   "source": [
    "# Convert network into a networkX Object\n",
    "x_network = nx.from_pandas_edgelist(\n",
    "    df_network,\n",
    "    \"source\",\n",
    "    \"target\",\n",
    ")\n",
    "print(x_network)"
   ]
  },
  {
   "cell_type": "code",
   "execution_count": 4,
   "id": "81ede4ea6b6af327",
   "metadata": {
    "ExecuteTime": {
     "end_time": "2025-01-25T16:52:35.080702Z",
     "start_time": "2025-01-25T16:52:35.012660Z"
    }
   },
   "outputs": [
    {
     "name": "stdout",
     "output_type": "stream",
     "text": [
      "IGRAPH U--- 46849 94884 -- \n",
      "+ attr: _nx_name (v)\n"
     ]
    }
   ],
   "source": [
    "# Convert network into an igraph object\n",
    "# NOTE: IGraph will be mainly used to conduct tasks with a high computational complexity,\n",
    "# since this library is implemented in C\n",
    "igraph_graph = Graph.from_networkx(\n",
    "    x_network\n",
    ")\n",
    "print(\n",
    "    igraph_graph.summary()\n",
    ")"
   ]
  },
  {
   "cell_type": "markdown",
   "id": "1bb5cb90465cd0da",
   "metadata": {},
   "source": "## 1.3 Create a simple plot of the Network"
  },
  {
   "cell_type": "markdown",
   "id": "feba314783b1aa40",
   "metadata": {},
   "source": [
    "Use IGraph instead of NetworkX --> Plot in 40 Seconds instead of 2 Hours <br>\n",
    "Note: You will need to install PyCairo to use the plotting functionality of IGraph <br>\n",
    "\n",
    "PyCairo depends on the local installation of pkg-config, cairo and CMake on your local computer!"
   ]
  },
  {
   "cell_type": "code",
   "execution_count": null,
   "id": "975baca8e4f0dbd4",
   "metadata": {
    "jupyter": {
     "is_executing": true
    }
   },
   "outputs": [],
   "source": [
    "# Let IGraph determine the best fitting layout\n",
    "layout = igraph_graph.layout(\n",
    "    \"auto\"\n",
    ")\n",
    "\n",
    "plot(\n",
    "    igraph_graph,\n",
    "    layout=layout,\n",
    "    vertex_size=5,\n",
    "    edge_width=0.1,\n",
    "    bbox=(500, 500),\n",
    ")"
   ]
  },
  {
   "cell_type": "markdown",
   "id": "e024d5134a8c5285",
   "metadata": {},
   "source": [
    "\n",
    "**First Visual Impression**: The plot already displays a large number of small communities with overlapping nodes, whereas most nodes have edges pointing into the center. It seems that a large cluster has formed in the center."
   ]
  },
  {
   "cell_type": "markdown",
   "id": "cff224afe320fdc0",
   "metadata": {},
   "source": [
    "# 2. Popularity Metrics\n",
    "In this section the following five popularity metrics from lecture will be calculated and visualized:\n",
    "\n",
    "1. Degree Centrality\n",
    "2. Eigenvector Centrality\n",
    "3. Page Rank Centrality\n",
    "4. Betweeness Centrality\n",
    "5. Closeness Centrality"
   ]
  },
  {
   "cell_type": "markdown",
   "id": "24204afe3fcfb313",
   "metadata": {},
   "source": "## 2.1 Calculation\n"
  },
  {
   "cell_type": "code",
   "execution_count": 5,
   "id": "bba66d06b09758c8",
   "metadata": {
    "ExecuteTime": {
     "end_time": "2025-01-25T16:56:02.586314Z",
     "start_time": "2025-01-25T16:56:02.574076Z"
    }
   },
   "outputs": [],
   "source": [
    "# Calculation of the Degree Centrality\n",
    "degree_centrality = nx.degree_centrality(\n",
    "    x_network\n",
    ")"
   ]
  },
  {
   "cell_type": "code",
   "execution_count": 6,
   "id": "1eb29082e3b8d759",
   "metadata": {
    "ExecuteTime": {
     "end_time": "2025-01-25T16:57:51.412326Z",
     "start_time": "2025-01-25T16:57:43.828352Z"
    }
   },
   "outputs": [],
   "source": [
    "# Calculation of the Eigenvector Centrality\n",
    "eigenvector_centrality = nx.eigenvector_centrality(\n",
    "    x_network,\n",
    "    max_iter=1000,\n",
    "    weight=\"weight\",\n",
    ")"
   ]
  },
  {
   "cell_type": "code",
   "execution_count": 7,
   "id": "fe07e67536822a5f",
   "metadata": {
    "ExecuteTime": {
     "end_time": "2025-01-25T16:57:53.110546Z",
     "start_time": "2025-01-25T16:57:53.029139Z"
    }
   },
   "outputs": [],
   "source": [
    "# Calculation of the Page Rank Centrality\n",
    "page_rank_centrality = nx.pagerank(\n",
    "    x_network,\n",
    "    weight=\"weight\",\n",
    ")"
   ]
  },
  {
   "cell_type": "code",
   "execution_count": 8,
   "id": "2a5e56a7a905e206",
   "metadata": {
    "ExecuteTime": {
     "end_time": "2025-01-25T17:02:42.736964Z",
     "start_time": "2025-01-25T17:01:53.542748Z"
    }
   },
   "outputs": [],
   "source": [
    "# Calculation of the Betweeness Centrality\n",
    "# Use IGraph instead of NetworkX, since computations are handled in C\n",
    "betweeness_values = igraph_graph.betweenness()\n",
    "\n",
    "# Store list of betweeness values in a dict with their corresponding user_id\n",
    "betweeness_centrality = {\n",
    "    igraph_graph.vs[\n",
    "        i\n",
    "    ][\n",
    "        \"_nx_name\"\n",
    "    ]: betweeness_values[\n",
    "        i\n",
    "    ]\n",
    "    for i in range(\n",
    "        len(\n",
    "            betweeness_values\n",
    "        )\n",
    "    )\n",
    "}"
   ]
  },
  {
   "cell_type": "code",
   "execution_count": 10,
   "id": "87db70abb52cda90",
   "metadata": {
    "ExecuteTime": {
     "end_time": "2025-01-25T17:03:27.259602Z",
     "start_time": "2025-01-25T17:03:03.146540Z"
    }
   },
   "outputs": [],
   "source": [
    "# Calculation of the Closeness Centrality\n",
    "# Use IGraph instead of NetworkX, since computations are handled in C\n",
    "closeness_values = igraph_graph.closeness()\n",
    "\n",
    "# Store list of closeness values in a dict with their corresponding user_id\n",
    "closeness_centrality = {\n",
    "    igraph_graph.vs[\n",
    "        i\n",
    "    ][\n",
    "        \"_nx_name\"\n",
    "    ]: closeness_values[\n",
    "        i\n",
    "    ]\n",
    "    for i in range(\n",
    "        len(\n",
    "            closeness_values\n",
    "        )\n",
    "    )\n",
    "}"
   ]
  },
  {
   "cell_type": "code",
   "execution_count": 15,
   "id": "73a259fb31a01206",
   "metadata": {
    "ExecuteTime": {
     "end_time": "2025-01-25T17:10:14.990778Z",
     "start_time": "2025-01-25T17:10:14.966549Z"
    }
   },
   "outputs": [],
   "source": [
    "# Store popularity metrics in a dataframe\n",
    "df_popularity = pd.DataFrame(\n",
    "    {\n",
    "        \"user_id\": list(\n",
    "            x_network.nodes\n",
    "        ),\n",
    "        \"degree_centrality\": list(\n",
    "            degree_centrality.values()\n",
    "        ),\n",
    "        \"eigenvector_centrality\": list(\n",
    "            eigenvector_centrality.values()\n",
    "        ),\n",
    "        \"page_rank_centrality\": list(\n",
    "            page_rank_centrality.values()\n",
    "        ),\n",
    "        \"betweenness_centrality\": list(\n",
    "            betweeness_centrality.values()\n",
    "        ),\n",
    "        \"closeness_centrality\": list(\n",
    "            closeness_centrality.values()\n",
    "        ),\n",
    "    }\n",
    ")\n",
    "\n",
    "# Merge with node.csv to receiver usernames as well\n",
    "df_merged = pd.merge(\n",
    "    df_nodes,\n",
    "    df_popularity,\n",
    "    on=\"user_id\",\n",
    ")\n",
    "\n",
    "# Store CSV in data folder\n",
    "# df_merged.to_csv(\"../data/nodes_popularity_metrics.csv\", index=False, sep=\",\")"
   ]
  },
  {
   "cell_type": "markdown",
   "id": "3dc241adb705b3e5",
   "metadata": {},
   "source": "## 2.2 Visualization"
  },
  {
   "cell_type": "code",
   "id": "4c4dbbd9413b2a73",
   "metadata": {
    "ExecuteTime": {
     "end_time": "2025-01-25T17:30:01.133164Z",
     "start_time": "2025-01-25T17:30:01.093976Z"
    }
   },
   "source": [
    "# Visualize Top 10 Users with the highest Degree Centrality\n",
    "top_10_users_degree = df_popularity.nlargest(\n",
    "    10,\n",
    "    \"degree_centrality\",\n",
    ")[\n",
    "    \"user_id\"\n",
    "].tolist()\n",
    "node_colors = [\n",
    "    \"blue\"\n",
    "    if igraph_graph.vs[\n",
    "        i\n",
    "    ][\"_nx_name\"]\n",
    "    in top_10_users_degree\n",
    "    else \"gray\"\n",
    "    for i in range(\n",
    "        len(\n",
    "            igraph_graph.vs\n",
    "        )\n",
    "    )\n",
    "]\n",
    "node_sizes = [\n",
    "    20\n",
    "    if igraph_graph.vs[\n",
    "        i\n",
    "    ][\"_nx_name\"]\n",
    "    in top_10_users_degree\n",
    "    else 5\n",
    "    for i in range(\n",
    "        len(\n",
    "            igraph_graph.vs\n",
    "        )\n",
    "    )\n",
    "]\n",
    "\n",
    "#plot(\n",
    "#    igraph_graph,\n",
    "#    layout=igraph_graph.layout(\n",
    "#        \"auto\"\n",
    "#    ),\n",
    "#    vertex_color=node_colors,\n",
    "#    vertex_size=node_sizes,\n",
    "#    edge_width=0.1,\n",
    "#    bbox=(100, 100),\n",
    "#)"
   ],
   "outputs": [],
   "execution_count": 28
  },
  {
   "cell_type": "code",
   "id": "e95fed5664aaacce",
   "metadata": {
    "ExecuteTime": {
     "end_time": "2025-01-25T17:30:05.393892Z",
     "start_time": "2025-01-25T17:30:05.360227Z"
    }
   },
   "source": [
    "# Visualize Top 10 Users with the highest Eigenvector Centrality\n",
    "top_10_users_ev = df_popularity.nlargest(\n",
    "    10,\n",
    "    \"eigenvector_centrality\",\n",
    ")[\n",
    "    \"user_id\"\n",
    "].tolist()\n",
    "node_colors = [\n",
    "    \"yellow\"\n",
    "    if igraph_graph.vs[\n",
    "        i\n",
    "    ][\"_nx_name\"]\n",
    "    in top_10_users_ev\n",
    "    else \"gray\"\n",
    "    for i in range(\n",
    "        len(\n",
    "            igraph_graph.vs\n",
    "        )\n",
    "    )\n",
    "]\n",
    "node_sizes = [\n",
    "    20\n",
    "    if igraph_graph.vs[\n",
    "        i\n",
    "    ][\"_nx_name\"]\n",
    "    in top_10_users_ev\n",
    "    else 5\n",
    "    for i in range(\n",
    "        len(\n",
    "            igraph_graph.vs\n",
    "        )\n",
    "    )\n",
    "]\n",
    "\n",
    "#plot(\n",
    "#    igraph_graph,\n",
    "#    layout=igraph_graph.layout(\n",
    "#        \"auto\"\n",
    "#    ),\n",
    "#    vertex_color=node_colors,\n",
    "#    vertex_size=node_sizes,\n",
    "#    edge_width=0.1,\n",
    "#    bbox=(100, 100),\n",
    "#)"
   ],
   "outputs": [],
   "execution_count": 29
  },
  {
   "cell_type": "code",
   "id": "4fafaa3a89efed26",
   "metadata": {
    "ExecuteTime": {
     "end_time": "2025-01-25T17:30:13.839021Z",
     "start_time": "2025-01-25T17:30:13.806337Z"
    }
   },
   "source": [
    "# Visualize Top 10 Users with the highest PageRank Centrality\n",
    "top_10_users_pr = df_popularity.nlargest(\n",
    "    10,\n",
    "    \"page_rank_centrality\",\n",
    ")[\n",
    "    \"user_id\"\n",
    "].tolist()\n",
    "node_colors = [\n",
    "    \"green\"\n",
    "    if igraph_graph.vs[\n",
    "        i\n",
    "    ][\"_nx_name\"]\n",
    "    in top_10_users_pr\n",
    "    else \"gray\"\n",
    "    for i in range(\n",
    "        len(\n",
    "            igraph_graph.vs\n",
    "        )\n",
    "    )\n",
    "]\n",
    "node_sizes = [\n",
    "    20\n",
    "    if igraph_graph.vs[\n",
    "        i\n",
    "    ][\"_nx_name\"]\n",
    "    in top_10_users_pr\n",
    "    else 5\n",
    "    for i in range(\n",
    "        len(\n",
    "            igraph_graph.vs\n",
    "        )\n",
    "    )\n",
    "]\n",
    "\n",
    "#plot(\n",
    "#    igraph_graph,\n",
    "#    layout=igraph_graph.layout(\n",
    "#        \"auto\"\n",
    "#    ),\n",
    "#    vertex_color=node_colors,\n",
    "#    vertex_size=node_sizes,\n",
    "#    edge_width=0.1,\n",
    "#    bbox=(100, 100),\n",
    "#)"
   ],
   "outputs": [],
   "execution_count": 30
  },
  {
   "cell_type": "code",
   "id": "dd8136400c718acb",
   "metadata": {
    "ExecuteTime": {
     "end_time": "2025-01-25T17:30:18.759302Z",
     "start_time": "2025-01-25T17:30:18.726544Z"
    }
   },
   "source": [
    "# Visualize Top 10 Users with the highest Betweenness Centrality\n",
    "top_10_users_betw = df_popularity.nlargest(\n",
    "    10,\n",
    "    \"betweenness_centrality\",\n",
    ")[\n",
    "    \"user_id\"\n",
    "].tolist()\n",
    "node_colors = [\n",
    "    \"orange\"\n",
    "    if igraph_graph.vs[\n",
    "        i\n",
    "    ][\"_nx_name\"]\n",
    "    in top_10_users_betw\n",
    "    else \"gray\"\n",
    "    for i in range(\n",
    "        len(\n",
    "            igraph_graph.vs\n",
    "        )\n",
    "    )\n",
    "]\n",
    "node_sizes = [\n",
    "    20\n",
    "    if igraph_graph.vs[\n",
    "        i\n",
    "    ][\"_nx_name\"]\n",
    "    in top_10_users_betw\n",
    "    else 5\n",
    "    for i in range(\n",
    "        len(\n",
    "            igraph_graph.vs\n",
    "        )\n",
    "    )\n",
    "]\n",
    "\n",
    "#plot(\n",
    "#    igraph_graph,\n",
    "#    layout=igraph_graph.layout(\n",
    "#        \"auto\"\n",
    "#    ),\n",
    "#    vertex_color=node_colors,\n",
    "#    vertex_size=node_sizes,\n",
    "#    edge_width=0.1,\n",
    "#    bbox=(100, 100),\n",
    "#)"
   ],
   "outputs": [],
   "execution_count": 31
  },
  {
   "cell_type": "code",
   "id": "e12d0d5d7058167a",
   "metadata": {
    "ExecuteTime": {
     "end_time": "2025-01-25T17:30:21.583197Z",
     "start_time": "2025-01-25T17:30:21.551332Z"
    }
   },
   "source": [
    "# Visualize Top 10 Users with the highest Closeness Centrality\n",
    "top_10_users_close = df_popularity.nlargest(\n",
    "    10,\n",
    "    \"closeness_centrality\",\n",
    ")[\n",
    "    \"user_id\"\n",
    "].tolist()\n",
    "node_colors = [\n",
    "    \"red\"\n",
    "    if igraph_graph.vs[\n",
    "        i\n",
    "    ][\"_nx_name\"]\n",
    "    in top_10_users_close\n",
    "    else \"gray\"\n",
    "    for i in range(\n",
    "        len(\n",
    "            igraph_graph.vs\n",
    "        )\n",
    "    )\n",
    "]\n",
    "node_sizes = [\n",
    "    20\n",
    "    if igraph_graph.vs[\n",
    "        i\n",
    "    ][\"_nx_name\"]\n",
    "    in top_10_users_close\n",
    "    else 5\n",
    "    for i in range(\n",
    "        len(\n",
    "            igraph_graph.vs\n",
    "        )\n",
    "    )\n",
    "]\n",
    "\n",
    "#plot(\n",
    "#    igraph_graph,\n",
    "#    layout=igraph_graph.layout(\n",
    "#        \"auto\"\n",
    "#    ),\n",
    "#    vertex_color=node_colors,\n",
    "#    vertex_size=node_sizes,\n",
    "#    edge_width=0.1,\n",
    "#    bbox=(100, 100),\n",
    "#)"
   ],
   "outputs": [],
   "execution_count": 32
  }
 ],
 "metadata": {
  "kernelspec": {
   "display_name": "Python 3",
   "language": "python",
   "name": "python3"
  },
  "language_info": {
   "codemirror_mode": {
    "name": "ipython",
    "version": 2
   },
   "file_extension": ".py",
   "mimetype": "text/x-python",
   "name": "python",
   "nbconvert_exporter": "python",
   "pygments_lexer": "ipython2",
   "version": "2.7.6"
  }
 },
 "nbformat": 4,
 "nbformat_minor": 5
}
