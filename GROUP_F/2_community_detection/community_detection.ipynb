{
 "cells": [
  {
   "cell_type": "markdown",
   "id": "d66bbf416469b996",
   "metadata": {},
   "source": [
    "# Social Network Analysis - Community Detection\n",
    "This notebook delves deeper into several community detection approaches, which can be applied on social network data consisting of vertices and edges.\n",
    "In particular, it covers traditional approaches such as the Greedy Modularity Algorithm, the Louvian Algorithm as well as machine learning algorithms\n",
    "such as DBScan."
   ]
  },
  {
   "cell_type": "markdown",
   "id": "a8e0e80f936c7c71",
   "metadata": {},
   "source": [
    "# Hypothesis: Relationship between Betweenness  and Communities\n",
    "\n",
    "**Background**: The betweenness centrality of a node v is the sum of the fraction of all-pairs shortest paths that pass through v.\n",
    "\n",
    "**Notion of Participation Coefficient**\n",
    "\n",
    "Participation coefficients measure the distribution of a node’s edges among the communities of a graph.\n",
    "If a node’s edges are entirely restricted to its community, its participation coefficient is 0.\n",
    "\n",
    "**Formula of the Participation Coefficient**:\n",
    "\n",
    "The Participation Coefficient $( P_i $) for a node $( i $) is defined as:\n",
    "\n",
    "$P_i = 1 - \\sum_{c=1}^{C} \\left( \\frac{k_{i,c}}{k_i} \\right)^2$\n",
    "\n",
    "Where:\n",
    "- $( C $) is the total number of communities in the graph.\n",
    "- $( k_{i,c} $) is the number of edges node \\( i \\) has with nodes in community \\( c \\).\n",
    "- $( k_i $) is the total degree of node \\( i \\), i.e., the total number of edges connected to node \\( i \\).\n",
    "\n",
    "**Hypothesis**: We assume that users with a high betweenness centrality have a higher participation coefficient. The reason for this assumption is that\n",
    "users with high betweenness centrality might serve as key intermediaries between different communities in a network by bridging structural gaps.\n",
    "Consequently, users with a high betweenness centrality have more connection to other communities than random nodes.\n",
    "\n",
    "**Evaluation**: To evaluate this hypothesis we will measure the linear relationship between the betweenness centrality and the\n",
    "participation coefficient of each node. To fully verify this hypothesis other statistical tests might be helpful.\n",
    "\n",
    "\n",
    "**Sources**:\n",
    "\n",
    "- https://pmc.ncbi.nlm.nih.gov/articles/PMC3838673/#:~:text=Participation%20coefficients%20measure%20the%20distribution,its%20participation%20coefficient%20is%200\n",
    "- https://pmc.ncbi.nlm.nih.gov/articles/PMC7286311/#:~:text=Normalized%20Participation%20Coefficient%20(PCnorm)&text=Formally%2C%20the%20PC%20of%20node,nodes%20in%20the%20entire%20network."
   ]
  },
  {
   "cell_type": "markdown",
   "id": "92fd0d5586f6866c",
   "metadata": {},
   "source": [
    "# Approach\n",
    "1. Load the data\n",
    "   1. Imports\n",
    "   2. Loading the network\n",
    "2. Community Detection with NetworkX\n",
    "   1. Louvain Algorithm\n",
    "   2. Greedy Modularity Algorithm\n",
    "3. Community Detection with DBScan\n",
    "   1. Vectorization with Node2Vec\n",
    "   2. Dimensionality Reduction\n",
    "   3. DBScan\n",
    "4. Evaluation of Community Detection\n",
    "5. Visualization\n",
    "6. Evaluating the Hypothesis"
   ]
  },
  {
   "cell_type": "markdown",
   "id": "c0745db29539932e",
   "metadata": {},
   "source": "# 1. Load the Data"
  },
  {
   "cell_type": "markdown",
   "id": "3f83392c6ace0cb8",
   "metadata": {},
   "source": "##  1.1 Imports"
  },
  {
   "cell_type": "code",
   "execution_count": 1,
   "id": "b67de6a846a87151",
   "metadata": {
    "ExecuteTime": {
     "end_time": "2025-01-26T18:19:24.939028Z",
     "start_time": "2025-01-26T18:19:23.257965Z"
    }
   },
   "outputs": [
    {
     "name": "stderr",
     "output_type": "stream",
     "text": [
      "/Users/marcsutjipto/Library/Caches/pypoetry/virtualenvs/social-network-analysis-da1-5gboGs_D-py3.12/lib/python3.12/site-packages/tqdm/auto.py:21: TqdmWarning: IProgress not found. Please update jupyter and ipywidgets. See https://ipywidgets.readthedocs.io/en/stable/user_install.html\n",
      "  from .autonotebook import tqdm as notebook_tqdm\n"
     ]
    }
   ],
   "source": [
    "import pandas as pd\n",
    "import numpy as np\n",
    "import networkx as nx\n",
    "\n",
    "from networkx.algorithms.community import (\n",
    "    louvain_communities,\n",
    "    greedy_modularity_communities,\n",
    "    modularity,\n",
    ")\n",
    "from node2vec import (\n",
    "    Node2Vec,\n",
    ")\n",
    "from gensim.models import (\n",
    "    Word2Vec,\n",
    ")\n",
    "from igraph import (\n",
    "    Graph,\n",
    "    plot,\n",
    ")\n",
    "from sklearn.manifold import (\n",
    "    TSNE,\n",
    ")\n",
    "import matplotlib.pyplot as plt\n",
    "from sklearn.neighbors import (\n",
    "    NearestNeighbors,\n",
    ")\n",
    "from sklearn.cluster import (\n",
    "    DBSCAN,\n",
    ")\n",
    "from sklearn.metrics import (\n",
    "    silhouette_score,\n",
    ")\n",
    "from sklearn.decomposition import (\n",
    "    TruncatedSVD,\n",
    ")"
   ]
  },
  {
   "cell_type": "markdown",
   "id": "27651281bc16bf54",
   "metadata": {},
   "source": "## 1.2 Loading the Network"
  },
  {
   "cell_type": "code",
   "execution_count": 2,
   "id": "b2f8fc8a5b730173",
   "metadata": {
    "ExecuteTime": {
     "end_time": "2025-01-26T18:19:26.464308Z",
     "start_time": "2025-01-26T18:19:26.446990Z"
    }
   },
   "outputs": [
    {
     "data": {
      "text/html": [
       "<div>\n",
       "<style scoped>\n",
       "    .dataframe tbody tr th:only-of-type {\n",
       "        vertical-align: middle;\n",
       "    }\n",
       "\n",
       "    .dataframe tbody tr th {\n",
       "        vertical-align: top;\n",
       "    }\n",
       "\n",
       "    .dataframe thead th {\n",
       "        text-align: right;\n",
       "    }\n",
       "</style>\n",
       "<table border=\"1\" class=\"dataframe\">\n",
       "  <thead>\n",
       "    <tr style=\"text-align: right;\">\n",
       "      <th></th>\n",
       "      <th>source</th>\n",
       "      <th>target</th>\n",
       "      <th>weight</th>\n",
       "    </tr>\n",
       "  </thead>\n",
       "  <tbody>\n",
       "    <tr>\n",
       "      <th>0</th>\n",
       "      <td>1084949174</td>\n",
       "      <td>1050463558</td>\n",
       "      <td>1</td>\n",
       "    </tr>\n",
       "    <tr>\n",
       "      <th>1</th>\n",
       "      <td>1084949174</td>\n",
       "      <td>1002148361</td>\n",
       "      <td>1</td>\n",
       "    </tr>\n",
       "    <tr>\n",
       "      <th>2</th>\n",
       "      <td>1084949174</td>\n",
       "      <td>1000741574</td>\n",
       "      <td>1</td>\n",
       "    </tr>\n",
       "    <tr>\n",
       "      <th>3</th>\n",
       "      <td>1084949174</td>\n",
       "      <td>1019020642</td>\n",
       "      <td>1</td>\n",
       "    </tr>\n",
       "    <tr>\n",
       "      <th>4</th>\n",
       "      <td>1084949174</td>\n",
       "      <td>1044910984</td>\n",
       "      <td>1</td>\n",
       "    </tr>\n",
       "  </tbody>\n",
       "</table>\n",
       "</div>"
      ],
      "text/plain": [
       "       source      target  weight\n",
       "0  1084949174  1050463558       1\n",
       "1  1084949174  1002148361       1\n",
       "2  1084949174  1000741574       1\n",
       "3  1084949174  1019020642       1\n",
       "4  1084949174  1044910984       1"
      ]
     },
     "execution_count": 2,
     "metadata": {},
     "output_type": "execute_result"
    }
   ],
   "source": [
    "# Load the CSV-Files and store it as pandas dataframe\n",
    "df_network = pd.read_csv(\n",
    "    \"../data/graph.csv\",\n",
    "    delimiter=\",\",\n",
    ")\n",
    "df_network.head()"
   ]
  },
  {
   "cell_type": "code",
   "execution_count": 3,
   "id": "a730fd71eafedd82",
   "metadata": {
    "ExecuteTime": {
     "end_time": "2025-01-26T18:19:28.909901Z",
     "start_time": "2025-01-26T18:19:28.795335Z"
    }
   },
   "outputs": [
    {
     "name": "stdout",
     "output_type": "stream",
     "text": [
      "Graph with 46849 nodes and 94884 edges\n"
     ]
    }
   ],
   "source": [
    "# Convert the df_network dataframe into a networkx graph object\n",
    "x_network = nx.from_pandas_edgelist(\n",
    "    df_network,\n",
    "    \"source\",\n",
    "    \"target\",\n",
    ")\n",
    "print(x_network)"
   ]
  },
  {
   "cell_type": "code",
   "execution_count": 4,
   "id": "5c929f460a7ab4e2",
   "metadata": {
    "ExecuteTime": {
     "end_time": "2025-01-26T18:19:30.473498Z",
     "start_time": "2025-01-26T18:19:30.410281Z"
    }
   },
   "outputs": [
    {
     "name": "stdout",
     "output_type": "stream",
     "text": [
      "IGRAPH U--- 46849 94884 -- \n",
      "+ attr: _nx_name (v)\n"
     ]
    }
   ],
   "source": [
    "# Convert network into an igraph object\n",
    "# ATTENTION: IGraph will be mainly used to conduct tasks with a high computational complexity,\n",
    "# since this library is implemented in C\n",
    "\n",
    "igraph_graph = Graph.from_networkx(\n",
    "    x_network\n",
    ")\n",
    "print(\n",
    "    igraph_graph.summary()\n",
    ")"
   ]
  },
  {
   "cell_type": "code",
   "execution_count": 7,
   "id": "690c592a2151385c",
   "metadata": {
    "ExecuteTime": {
     "end_time": "2025-01-26T14:07:01.291007Z",
     "start_time": "2025-01-26T14:07:01.289104Z"
    }
   },
   "outputs": [],
   "source": [
    "# Plot the graph for a first visual impression\n",
    "\n",
    "# Let IGraph determine the best fitting layout\n",
    "layout = igraph_graph.layout(\n",
    "    \"auto\"\n",
    ")\n",
    "\n",
    "# A stored figure can be found in the directory ../docs/standard_network.png.\n",
    "# ATTENTION: The figure is not displayed here since it would consume too much space in the notebook.\n",
    "plot(\n",
    "    igraph_graph,\n",
    "    layout=layout,\n",
    "    vertex_size=5,\n",
    "    edge_width=0.1,\n",
    "    vertex_label_dist=0.5,\n",
    "    bbox=(500, 500),\n",
    ")"
   ]
  },
  {
   "cell_type": "markdown",
   "id": "87b308b2602796ef",
   "metadata": {},
   "source": [
    "**Visual Impression**: Above it is already visible that many nodes are overlapping, which looks like there are many small communities of nodes.\n",
    "Furthermore, it looks like there is a bigger community in the center of the network."
   ]
  },
  {
   "cell_type": "markdown",
   "id": "c598ab7e3bd7d550",
   "metadata": {},
   "source": [
    "# 2. Community Detection with NetworkX\n",
    "The NetworkX library offers several approaches to detect communities in a social network. <br>\n",
    "In this section we will examine the Louvain Algorithm as well as the Greedy Modularity Algorithm. <br>"
   ]
  },
  {
   "cell_type": "markdown",
   "id": "5b2b25153428251e",
   "metadata": {},
   "source": "## 2.1 Louvain Algorithm\n"
  },
  {
   "cell_type": "markdown",
   "id": "807f9ed619f42344",
   "metadata": {},
   "source": [
    "The **Louvain algorithm** is an efficient **community detection** method that maximizes **modularity** in a network. It works iteratively in two phases:\n",
    "\n",
    "1. **Local Optimization**: Each node is temporarily assigned to a community to improve modularity.\n",
    "2. **Community Aggregation**: The detected communities are treated as super-nodes, and the process is repeated.\n",
    "\n",
    "This approach is highly efficient for large networks and often produces well-structured community partitions."
   ]
  },
  {
   "cell_type": "code",
   "execution_count": 7,
   "id": "a4ecf1be61ce0e65",
   "metadata": {
    "ExecuteTime": {
     "end_time": "2025-01-26T18:19:51.826610Z",
     "start_time": "2025-01-26T18:19:48.633650Z"
    }
   },
   "outputs": [
    {
     "name": "stdout",
     "output_type": "stream",
     "text": [
      "245\n"
     ]
    }
   ],
   "source": [
    "# Assign each user to a community with the louvain_communities function\n",
    "communities_louvain = louvain_communities(\n",
    "    x_network,\n",
    "    seed=42,\n",
    ")\n",
    "\n",
    "# Print the number of communities for the louvain algorithm\n",
    "print(\n",
    "    len(\n",
    "        communities_louvain\n",
    "    )\n",
    ")"
   ]
  },
  {
   "cell_type": "markdown",
   "id": "2d2bf90c2d40fa27",
   "metadata": {},
   "source": [
    "## 2.2 Greedy Modularity Algorithm\n",
    "The **Greedy Modularity Algorithm** follows a hierarchical, agglomerative approach:\n",
    "\n",
    "1. Each node starts as its own community.\n",
    "2. Iteratively, communities are merged to maximize modularity gain.\n",
    "3. The process stops when no further modularity improvement is possible."
   ]
  },
  {
   "cell_type": "code",
   "execution_count": 9,
   "id": "4d49977e0f99c60b",
   "metadata": {
    "ExecuteTime": {
     "end_time": "2025-01-26T18:20:12.771922Z",
     "start_time": "2025-01-26T18:20:04.816166Z"
    }
   },
   "outputs": [
    {
     "name": "stdout",
     "output_type": "stream",
     "text": [
      "307\n"
     ]
    }
   ],
   "source": [
    "# Assign each user to a community with the louvain_communities function\n",
    "communities_greedy = greedy_modularity_communities(\n",
    "    x_network,\n",
    ")\n",
    "\n",
    "# Print the number of communities for the louvain algorithm\n",
    "print(\n",
    "    len(\n",
    "        communities_greedy\n",
    "    )\n",
    ")"
   ]
  },
  {
   "cell_type": "markdown",
   "id": "dfa4a26216fee7e6",
   "metadata": {},
   "source": [
    "# 3. Community Detection with KMeans and DBScan\n",
    "This section examines two clustering methods introduced in class.\n",
    "Both methods use a numerical vector as input parameter. Consequently, it is necessary\n",
    "to convert the graph representation of the network into a numerical representation.\n",
    "A popular method to convert a graph into a numerical vector is the Node2Vec Algorithm.\n",
    "\n",
    "Source for the Node2Vec approach: <br>\n",
    "**Grover, A., & Leskovec, J. (2016, August). node2vec: Scalable feature learning for networks. In Proceedings of the 22nd ACM SIGKDD international conference on Knowledge discovery and data mining (pp. 855-864).**\n"
   ]
  },
  {
   "cell_type": "markdown",
   "id": "bf78096e2493ee55",
   "metadata": {},
   "source": "## 3.1 Vectorization with Node2Vec"
  },
  {
   "cell_type": "code",
   "execution_count": 8,
   "id": "b1985c0abe878af0",
   "metadata": {
    "ExecuteTime": {
     "end_time": "2025-01-26T14:25:00.514768Z",
     "start_time": "2025-01-26T14:15:43.952006Z"
    }
   },
   "outputs": [
    {
     "name": "stderr",
     "output_type": "stream",
     "text": [
      "Computing transition probabilities: 100%|██████████| 46849/46849 [00:04<00:00, 10567.57it/s]\n",
      "Generating walks (CPU: 1): 100%|██████████| 20/20 [02:53<00:00,  8.66s/it]\n",
      "Generating walks (CPU: 2): 100%|██████████| 20/20 [02:57<00:00,  8.88s/it]\n",
      "Generating walks (CPU: 3): 100%|██████████| 20/20 [03:00<00:00,  9.04s/it]\n",
      "Generating walks (CPU: 4): 100%|██████████| 20/20 [03:00<00:00,  9.04s/it]\n"
     ]
    }
   ],
   "source": [
    "# Create Node2Vec Object\n",
    "# Adapt the number of workers = 1, if you use Windows!\n",
    "node2vec = Node2Vec(\n",
    "    x_network,\n",
    "    dimensions=128,\n",
    "    walk_length=80,\n",
    "    num_walks=80,\n",
    "    p=2,\n",
    "    q=0.5,\n",
    "    workers=4,\n",
    ")"
   ]
  },
  {
   "cell_type": "code",
   "execution_count": 10,
   "id": "1ed1df7cbbc8aaec",
   "metadata": {
    "ExecuteTime": {
     "end_time": "2025-01-26T18:20:31.061007Z",
     "start_time": "2025-01-26T18:20:30.940666Z"
    }
   },
   "outputs": [],
   "source": [
    "# Create embeddings for the network nodes\n",
    "# model = node2vec.fit(window=10,\n",
    "#                     min_count=1,\n",
    "#                     batch_words=100)\n",
    "\n",
    "# Alternative: Load stored model from models directory\n",
    "model = Word2Vec.load(\n",
    "    \"../models/embeddings_n2v.model\"\n",
    ")"
   ]
  },
  {
   "cell_type": "code",
   "execution_count": 11,
   "id": "4f6740fde24c3f89",
   "metadata": {
    "ExecuteTime": {
     "end_time": "2025-01-26T18:20:33.089487Z",
     "start_time": "2025-01-26T18:20:33.062160Z"
    }
   },
   "outputs": [],
   "source": [
    "# Store embeddings and user_ids\n",
    "node_ids = list(\n",
    "    model.wv.index_to_key\n",
    ")\n",
    "embeddings = np.array(\n",
    "    [\n",
    "        model.wv[\n",
    "            node\n",
    "        ]\n",
    "        for node in node_ids\n",
    "    ]\n",
    ")"
   ]
  },
  {
   "cell_type": "markdown",
   "id": "df416bf593def6b3",
   "metadata": {},
   "source": [
    "## 3.2 Dimensionality Reduction\n",
    "In order to reduce the computational complexity the dimensions of the embeddings will be reduced with a dimensionality reduction approach.\n",
    "For visualization purposes the t-SNE Algorithm will be used. To keep as much characteristics in the data as possible the SVD approach will be used."
   ]
  },
  {
   "cell_type": "markdown",
   "id": "98d320e094b7215d",
   "metadata": {},
   "source": "### 3.2.1 TSNE with Visualization"
  },
  {
   "cell_type": "code",
   "execution_count": 12,
   "id": "31784aecff149b",
   "metadata": {
    "ExecuteTime": {
     "end_time": "2025-01-26T15:07:18.409973Z",
     "start_time": "2025-01-26T15:06:15.300890Z"
    }
   },
   "outputs": [],
   "source": [
    "# Reduce to two components\n",
    "tsne = TSNE(\n",
    "    n_components=2,\n",
    "    random_state=42,\n",
    ")\n",
    "embeddings_2d = tsne.fit_transform(\n",
    "    embeddings\n",
    ")"
   ]
  },
  {
   "cell_type": "code",
   "execution_count": 13,
   "id": "a0d5bbad616181dc",
   "metadata": {
    "ExecuteTime": {
     "end_time": "2025-01-26T15:08:47.296241Z",
     "start_time": "2025-01-26T15:08:04.139583Z"
    }
   },
   "outputs": [
    {
     "data": {
      "image/png": "[encoded data removed]",
      "text/plain": [
       "<Figure size 640x480 with 1 Axes>"
      ]
     },
     "metadata": {},
     "output_type": "display_data"
    }
   ],
   "source": [
    "# Plot the Network in a 2D-representation\n",
    "plt.scatter(\n",
    "    embeddings_2d[\n",
    "        :, 0\n",
    "    ],\n",
    "    embeddings_2d[\n",
    "        :, 1\n",
    "    ],\n",
    "    s=0.5,\n",
    "    alpha=0.7,\n",
    "    c=\"red\",\n",
    ")\n",
    "\n",
    "plt.title(\n",
    "    \"2D-Plot of the Social Network with t-SNE\",\n",
    "    fontsize=14,\n",
    ")\n",
    "plt.xlabel(\n",
    "    \"Component 1\"\n",
    ")\n",
    "plt.ylabel(\n",
    "    \"Component 2\"\n",
    ")\n",
    "plt.show()"
   ]
  },
  {
   "cell_type": "markdown",
   "id": "4dc9c61d78c4900",
   "metadata": {},
   "source": [
    "**Observation**: Compared with the standard graph from IGraph (see ../docs/standard_network.png) the 2D representation looks very similar,\n",
    " since nodes overlap with each other and form small communities. Even the visual representation looks similar."
   ]
  },
  {
   "cell_type": "markdown",
   "id": "cac17bd86b219ffd",
   "metadata": {},
   "source": [
    "### 3.2.2 Dimensionality Reduction with the TruncatedSVD approach\n",
    "In order check how many dimensions keep the most variance in the embeddings, we need to determine how much variance is kept by each component.\n",
    "We can check this by creating a cumulative variance plot based on all dimensions n=128."
   ]
  },
  {
   "cell_type": "code",
   "execution_count": 30,
   "id": "e16c64ddd36abf63",
   "metadata": {
    "ExecuteTime": {
     "end_time": "2025-01-26T15:32:41.309927Z",
     "start_time": "2025-01-26T15:32:35.841812Z"
    }
   },
   "outputs": [
    {
     "data": {
      "image/png": "[encoded data removed]",
      "text/plain": [
       "<Figure size 800x500 with 1 Axes>"
      ]
     },
     "metadata": {},
     "output_type": "display_data"
    }
   ],
   "source": [
    "# Define number of components and SVD object\n",
    "n_components = 128\n",
    "svd = TruncatedSVD(\n",
    "    n_components=n_components\n",
    ")\n",
    "\n",
    "# Dimensionality reduction\n",
    "svd.fit(embeddings)\n",
    "\n",
    "# Calculate explained variance ratio and cumulative variance\n",
    "explained_variance_ratio = svd.explained_variance_ratio_\n",
    "cumulative_variance = np.cumsum(\n",
    "    explained_variance_ratio\n",
    ")\n",
    "\n",
    "# Create the plot\n",
    "plt.figure(\n",
    "    figsize=(8, 5)\n",
    ")\n",
    "plt.plot(\n",
    "    range(\n",
    "        1,\n",
    "        n_components\n",
    "        + 1,\n",
    "    ),\n",
    "    cumulative_variance,\n",
    "    marker=\"o\",\n",
    "    linestyle=\"--\",\n",
    "    label=\"Accumulated Variance\",\n",
    ")\n",
    "plt.axhline(\n",
    "    y=0.90,\n",
    "    color=\"r\",\n",
    "    linestyle=\"-\",\n",
    "    label=\"90% Variance\",\n",
    ")\n",
    "plt.axhline(\n",
    "    y=0.95,\n",
    "    color=\"g\",\n",
    "    linestyle=\"-\",\n",
    "    label=\"95% Variance\",\n",
    ")\n",
    "\n",
    "plt.xlabel(\n",
    "    \"Number of Components\"\n",
    ")\n",
    "plt.ylabel(\n",
    "    \"Cumulated explained Variance\"\n",
    ")\n",
    "plt.title(\n",
    "    \"Explained Variance with Truncated SVD\"\n",
    ")\n",
    "plt.legend()\n",
    "plt.grid(True)\n",
    "plt.show()"
   ]
  },
  {
   "cell_type": "markdown",
   "id": "204ccdd51701be73",
   "metadata": {},
   "source": [
    "**Observation**: It seems that around 100 hundred components are necessary to cover 90% of the variance in the data.\n",
    "Hence, dimensionality reduction can not be applied to a low number of dimensions without losing much information in the data.\n",
    "Therefore,  the usage of KMeans makes not much sense, due to the curse of dimensionality for the euclidean distance function.\n",
    "As a consequence we will use the DBScan algorithm with the cosine distance metric for dommunity detection."
   ]
  },
  {
   "cell_type": "markdown",
   "id": "22c9ee5f57ace71f",
   "metadata": {},
   "source": [
    "## 3.3 DBScan\n",
    "To determine an optimal value for the eps parameter, we will create a k-distance plot."
   ]
  },
  {
   "cell_type": "code",
   "execution_count": 21,
   "id": "6d9bf0b711fee04d",
   "metadata": {
    "ExecuteTime": {
     "end_time": "2025-01-26T17:40:15.570916Z",
     "start_time": "2025-01-26T17:39:54.706523Z"
    }
   },
   "outputs": [
    {
     "data": {
      "image/png": "[encoded data removed]",
      "text/plain": [
       "<Figure size 640x480 with 1 Axes>"
      ]
     },
     "metadata": {},
     "output_type": "display_data"
    }
   ],
   "source": [
    "\n",
    "min_samples = 56\n",
    "\n",
    "nearest_neighbors = NearestNeighbors(\n",
    "    n_neighbors=min_samples,\n",
    "    metric=\"cosine\",\n",
    ")\n",
    "nearest_neighbors.fit(\n",
    "    embeddings\n",
    ")\n",
    "(\n",
    "    distances,\n",
    "    indices,\n",
    ") = nearest_neighbors.kneighbors(\n",
    "    embeddings\n",
    ")\n",
    "\n",
    "distances = np.sort(\n",
    "    distances[:, -1]\n",
    ")\n",
    "plt.plot(distances)\n",
    "plt.xlabel(\n",
    "    \"Nodes sorted\"\n",
    ")\n",
    "plt.ylabel(\n",
    "    f\"Distance to {min_samples}-th nearest neighbor\"\n",
    ")\n",
    "plt.yticks(\n",
    "    np.linspace(\n",
    "        min(\n",
    "            distances\n",
    "        ),\n",
    "        max(\n",
    "            distances\n",
    "        ),\n",
    "        20,\n",
    "    )\n",
    ")\n",
    "plt.title(\n",
    "    \"k-Distance-Plot for DBSCAN\"\n",
    ")\n",
    "plt.grid(True)"
   ]
  },
  {
   "cell_type": "markdown",
   "id": "3c3d0ef149712b35",
   "metadata": {},
   "source": "**Observation**: The elbow on the right side of the plot, indicates an epsilon value of around **0,1348** as optimal."
  },
  {
   "cell_type": "code",
   "execution_count": 12,
   "id": "c89dc5bc96aa99f3",
   "metadata": {
    "ExecuteTime": {
     "end_time": "2025-01-26T18:20:48.145171Z",
     "start_time": "2025-01-26T18:20:43.114113Z"
    }
   },
   "outputs": [],
   "source": [
    "# Create Cluster labels with DBScan\n",
    "dbscan = DBSCAN(\n",
    "    eps=0.1348,\n",
    "    min_samples=56,\n",
    "    metric=\"cosine\",\n",
    ").fit(embeddings)"
   ]
  },
  {
   "cell_type": "code",
   "execution_count": 13,
   "id": "5fd4fa36a71dcd19",
   "metadata": {
    "ExecuteTime": {
     "end_time": "2025-01-26T18:20:48.984570Z",
     "start_time": "2025-01-26T18:20:48.981035Z"
    }
   },
   "outputs": [
    {
     "name": "stdout",
     "output_type": "stream",
     "text": [
      "348\n"
     ]
    }
   ],
   "source": [
    "print(\n",
    "    max(\n",
    "        dbscan.labels_\n",
    "    )\n",
    ")"
   ]
  },
  {
   "cell_type": "markdown",
   "id": "27031151d82db70f",
   "metadata": {},
   "source": "DBScan identifies 348 communities"
  },
  {
   "cell_type": "markdown",
   "id": "924229f15521be04",
   "metadata": {},
   "source": [
    "# 4. Evaluation\n",
    "In this section we will evaluate the cluster quality based on the silhouette_score and on the modularity\n",
    "(only for Louvain and Greedy Modularity)."
   ]
  },
  {
   "cell_type": "markdown",
   "id": "cce9f4a50f5ddd59",
   "metadata": {},
   "source": "## 4.1 Silhouette Score"
  },
  {
   "cell_type": "code",
   "execution_count": 14,
   "id": "aa6fc82d3fcabba0",
   "metadata": {
    "ExecuteTime": {
     "end_time": "2025-01-26T18:21:11.693326Z",
     "start_time": "2025-01-26T18:21:03.496030Z"
    }
   },
   "outputs": [
    {
     "name": "stdout",
     "output_type": "stream",
     "text": [
      "0.46371394\n"
     ]
    }
   ],
   "source": [
    "silhouette_dbscan = silhouette_score(\n",
    "    embeddings,\n",
    "    dbscan.labels_,\n",
    "    metric=\"cosine\",\n",
    ")\n",
    "print(\n",
    "    silhouette_dbscan\n",
    ")"
   ]
  },
  {
   "cell_type": "markdown",
   "id": "106d5024dec915bb",
   "metadata": {},
   "source": "**Result**: The DBScam algorithm has a silhouette score of 0,46, which is \"okay\"."
  },
  {
   "cell_type": "markdown",
   "id": "ed27cd5d964a8e69",
   "metadata": {},
   "source": [
    "# 4.2 Modularity\n",
    "\n",
    "Modularity $Q$ is defined as:\n",
    "\n",
    "$$\n",
    "Q = \\frac{1}{2m} \\sum_{ij} \\left( A_{ij} - \\gamma \\frac{k_i k_j}{2m} \\right) \\delta(c_i, c_j)\n",
    "$$\n",
    "\n",
    "where:\n",
    "\n",
    "- $m$ = Number of edges in the graph (or sum of edge weights)\n",
    "- $A_{ij}$ = Entry in the **adjacency matrix** $A$ (1 if an edge exists, otherwise 0)\n",
    "- $k_i$ = **Degree** of node $i$ (sum of edge weights)\n",
    "- $\\gamma$ = **Resolution parameter** (controls the size of detected communities)\n",
    "- $\\delta(c_i, c_j)$ = Indicator function (1 if nodes $i$ and $j$ belong to the same community, otherwise 0)\n",
    "\n",
    "A **higher** $Q$ value indicates a **better** community partition. Typically, $Q$ ranges between **0 and 1**.\n",
    "\n",
    "**Source**: https://networkx.org/documentation/stable/reference/algorithms/generated/networkx.algorithms.community.quality.modularity.html\n",
    "\n"
   ]
  },
  {
   "cell_type": "code",
   "execution_count": 62,
   "id": "e9f7ae1bfb047250",
   "metadata": {
    "ExecuteTime": {
     "end_time": "2025-01-25T19:51:25.740191Z",
     "start_time": "2025-01-25T19:51:25.676410Z"
    }
   },
   "outputs": [
    {
     "name": "stdout",
     "output_type": "stream",
     "text": [
      "Communites detected by the Louvain Algorithm has the following modularity: 0.9662857758624497\n"
     ]
    }
   ],
   "source": [
    "modularity_louvain = modularity(\n",
    "    x_network,\n",
    "    communities_louvain,\n",
    ")\n",
    "print(\n",
    "    f\"Communites detected by the Louvain Algorithm\"\n",
    "    f\" has the following modularity: {modularity_louvain}\"\n",
    ")"
   ]
  },
  {
   "cell_type": "code",
   "execution_count": 63,
   "id": "c4340079526ac1e8",
   "metadata": {
    "ExecuteTime": {
     "end_time": "2025-01-25T19:51:28.271537Z",
     "start_time": "2025-01-25T19:51:28.210591Z"
    }
   },
   "outputs": [
    {
     "name": "stdout",
     "output_type": "stream",
     "text": [
      "Communites detected by the Greedy Algorithm has the following modularity: 0.9683642772144145\n"
     ]
    }
   ],
   "source": [
    "modularity_greedy_mod = modularity(\n",
    "    x_network,\n",
    "    communities_greedy,\n",
    ")\n",
    "print(\n",
    "    f\"Communites detected by the Greedy Algorithm \"\n",
    "    f\"has the following modularity: {modularity_greedy_mod}\"\n",
    ")"
   ]
  },
  {
   "cell_type": "markdown",
   "id": "9f017803e5496f0f",
   "metadata": {},
   "source": [
    "**Observation**: Both community detection algorithms perform very well with a modularity score greater than 0,96 indicating\n",
    "                 <br> a good seperation of the network into communities\n",
    "\n",
    "**General Results**: For community detection it is much less computing intensive to use approaches such as Louvain or Greedy Modularity compared to\n",
    "                     popular machine learning techniques such as DBScan. In this example community detection worked much better and faster for the Louvain and\n",
    "                     the Greedy Modularity approach. Nevertheless, the possibility to convert network data (vertices and edges) to a numerical representation\n",
    "                     provides many possibilities for applying traditional machine learning approaches or combinations with generative language models (e.g Graph\n",
    "                     Retrieve Augmented Generation with Neo4j)."
   ]
  },
  {
   "cell_type": "markdown",
   "id": "30f0ee891472f6ca",
   "metadata": {},
   "source": "# 5. Visualization"
  },
  {
   "cell_type": "code",
   "execution_count": 19,
   "id": "6885f4c10cfffe59",
   "metadata": {
    "ExecuteTime": {
     "end_time": "2025-01-25T20:34:23.936671Z",
     "start_time": "2025-01-25T20:34:23.930587Z"
    }
   },
   "outputs": [],
   "source": [
    "# Assign cluster_ids to every node for the louvain algorithm\n",
    "cluster_id_list_louv = []\n",
    "cluster_node_id_list_louv = []\n",
    "for (\n",
    "    cluster_id,\n",
    "    community,\n",
    ") in enumerate(\n",
    "    communities_louvain\n",
    "):\n",
    "    for (\n",
    "        node\n",
    "    ) in community:\n",
    "        cluster_node_id_list_louv.append(\n",
    "            node\n",
    "        )\n",
    "        cluster_id_list_louv.append(\n",
    "            cluster_id\n",
    "        )"
   ]
  },
  {
   "cell_type": "code",
   "execution_count": 17,
   "id": "e124a2419347d9c",
   "metadata": {
    "ExecuteTime": {
     "end_time": "2025-01-25T20:33:58.922032Z",
     "start_time": "2025-01-25T20:33:58.916338Z"
    }
   },
   "outputs": [],
   "source": [
    "# Assign cluster_ids to every node for the greedy modularity algorithm\n",
    "cluster_id_list_gred = []\n",
    "cluster_node_id_list_gred = []\n",
    "for (\n",
    "    cluster_id,\n",
    "    community,\n",
    ") in enumerate(\n",
    "    communities_greedy\n",
    "):\n",
    "    for (\n",
    "        node\n",
    "    ) in community:\n",
    "        cluster_node_id_list_gred.append(\n",
    "            node\n",
    "        )\n",
    "        cluster_id_list_gred.append(\n",
    "            cluster_id\n",
    "        )"
   ]
  },
  {
   "cell_type": "code",
   "execution_count": null,
   "id": "b964145551add13a",
   "metadata": {},
   "outputs": [],
   "source": [
    "# Plot the louvain communities\n",
    "colors_louv = [\n",
    "    plt.cm.tab10(\n",
    "        i % 10\n",
    "    )\n",
    "    for i in cluster_id_list_louv\n",
    "]\n",
    "\n",
    "# Assign each node a color according to their cluster\n",
    "igraph_graph.vs[\n",
    "    \"color_louv\"\n",
    "] = colors_louv\n",
    "\n",
    "layout = igraph_graph.layout(\n",
    "    \"auto\"\n",
    ")\n",
    "\n",
    "\n",
    "plot(\n",
    "    igraph_graph,\n",
    "    layout=layout,\n",
    "    vertex_size=5,\n",
    "    vertex_color=igraph_graph.vs[\n",
    "        \"color_louv\"\n",
    "    ],\n",
    "    edge_width=0.1,\n",
    "    bbox=(\n",
    "        1000,\n",
    "        1000,\n",
    "    ),\n",
    "    target=\"../docs/louvain_visualization.png\",\n",
    ")"
   ]
  },
  {
   "cell_type": "code",
   "execution_count": null,
   "id": "33088e3dad6b3a5b",
   "metadata": {},
   "outputs": [],
   "source": [
    "# Plot the greedy modularity communities\n",
    "colors_gred = [\n",
    "    plt.cm.tab10(\n",
    "        i % 10\n",
    "    )\n",
    "    for i in cluster_id_list_gred\n",
    "]\n",
    "\n",
    "# Assign each node a color according to their cluster\n",
    "igraph_graph.vs[\n",
    "    \"color_gred\"\n",
    "] = colors_gred\n",
    "\n",
    "layout = igraph_graph.layout(\n",
    "    \"auto\"\n",
    ")\n",
    "\n",
    "\n",
    "plot(\n",
    "    igraph_graph,\n",
    "    layout=layout,\n",
    "    vertex_size=5,\n",
    "    vertex_color=igraph_graph.vs[\n",
    "        \"color_gred\"\n",
    "    ],\n",
    "    edge_width=0.1,\n",
    "    bbox=(\n",
    "        1000,\n",
    "        1000,\n",
    "    ),\n",
    "    target=\"../docs/greedy_mod_visualization.png\",\n",
    ")"
   ]
  },
  {
   "cell_type": "code",
   "execution_count": null,
   "id": "d3c2e7fd4014d104",
   "metadata": {
    "ExecuteTime": {
     "end_time": "2025-01-26T18:31:37.762129Z",
     "start_time": "2025-01-26T18:31:37.760780Z"
    }
   },
   "outputs": [],
   "source": [
    "# Plot the dbscan communities\n",
    "colors_db = [\n",
    "    plt.cm.tab10(\n",
    "        i % 10\n",
    "    )\n",
    "    for i in dbscan.labels_\n",
    "]\n",
    "\n",
    "# Assign each node a color according to their cluster\n",
    "igraph_graph.vs[\n",
    "    \"color_db\"\n",
    "] = colors_db\n",
    "\n",
    "layout = igraph_graph.layout(\n",
    "    \"auto\"\n",
    ")\n",
    "\n",
    "\n",
    "plot(\n",
    "    igraph_graph,\n",
    "    layout=layout,\n",
    "    vertex_size=5,\n",
    "    vertex_color=igraph_graph.vs[\n",
    "        \"color_db\"\n",
    "    ],\n",
    "    edge_width=0.1,\n",
    "    bbox=(\n",
    "        1000,\n",
    "        1000,\n",
    "    ),\n",
    "    target=\"../docs/dbscan_com_visualization.png\",\n",
    ")"
   ]
  },
  {
   "cell_type": "markdown",
   "id": "321d6d0763c82f62",
   "metadata": {},
   "source": [
    "# 6. Evaluating the Hypothesis\n",
    "In order to evaluate our hypothesis we need to calculate the participation coefficient for each node\n",
    "based on the clustering from the previous steps. Therefore, we first need to define a function that covers this functionality."
   ]
  },
  {
   "cell_type": "code",
   "execution_count": 26,
   "id": "4ce416439fb1935c",
   "metadata": {
    "ExecuteTime": {
     "end_time": "2025-01-26T18:34:44.722296Z",
     "start_time": "2025-01-26T18:34:44.719566Z"
    }
   },
   "outputs": [],
   "source": [
    "def participation_coefficient(\n",
    "    G: nx.Graph,\n",
    "    partition: list,\n",
    ") -> dict:\n",
    "    # Convert list into a dictionary\n",
    "    partition_dict = {\n",
    "        node: i\n",
    "        for i, community in enumerate(\n",
    "            partition\n",
    "        )\n",
    "        for node in community\n",
    "    }\n",
    "\n",
    "    pc = {}\n",
    "    for (\n",
    "        node\n",
    "    ) in G.nodes():\n",
    "        # Degree of a node\n",
    "        ki = G.degree(\n",
    "            node\n",
    "        )\n",
    "\n",
    "        # If degree = 0 it has no neighbor connections\n",
    "        if ki == 0:\n",
    "            pc[\n",
    "                node\n",
    "            ] = 0.0\n",
    "            continue\n",
    "\n",
    "        # Count how often neighbors of the node are in corresponding communities\n",
    "        comm_strength = {}\n",
    "        for neighbor in G.neighbors(\n",
    "            node\n",
    "        ):\n",
    "            comm = partition_dict[\n",
    "                neighbor\n",
    "            ]\n",
    "            if (\n",
    "                comm\n",
    "                not in comm_strength\n",
    "            ):\n",
    "                comm_strength[\n",
    "                    comm\n",
    "                ] = 0\n",
    "            comm_strength[\n",
    "                comm\n",
    "            ] += 1\n",
    "\n",
    "        # Calculate the normalized partition coefficient based on the formula\n",
    "        sum_sq = sum(\n",
    "            (\n",
    "                ki_comm\n",
    "                / ki\n",
    "            )\n",
    "            ** 2\n",
    "            for ki_comm in comm_strength.values()\n",
    "        )\n",
    "        pc[node] = (\n",
    "            1\n",
    "            - sum_sq\n",
    "        )\n",
    "\n",
    "    return pc"
   ]
  },
  {
   "cell_type": "code",
   "execution_count": 27,
   "id": "977b28a623403d2e",
   "metadata": {
    "ExecuteTime": {
     "end_time": "2025-01-26T18:34:46.500849Z",
     "start_time": "2025-01-26T18:34:46.443698Z"
    }
   },
   "outputs": [],
   "source": [
    "# Return PC-Values for the social network\n",
    "pc_values = participation_coefficient(\n",
    "    x_network,\n",
    "    communities_louvain,\n",
    ")\n",
    "\n",
    "# Convert into a dataframe\n",
    "df_pc = pd.DataFrame(\n",
    "    list(\n",
    "        pc_values.items()\n",
    "    ),\n",
    "    columns=[\n",
    "        \"user_id\",\n",
    "        \"partition_coefficient\",\n",
    "    ],\n",
    ")"
   ]
  },
  {
   "cell_type": "code",
   "execution_count": 15,
   "id": "410c8bab1c17846b",
   "metadata": {
    "ExecuteTime": {
     "end_time": "2025-01-26T18:27:00.802205Z",
     "start_time": "2025-01-26T18:27:00.774650Z"
    }
   },
   "outputs": [],
   "source": [
    "# Read popularity metrics\n",
    "df_centrality_metrics = pd.read_csv(\n",
    "    \"../data/nodes_popularity_metrics.csv\",\n",
    "    delimiter=\",\",\n",
    ")"
   ]
  },
  {
   "cell_type": "code",
   "execution_count": 18,
   "id": "84b7aacf37e37af9",
   "metadata": {
    "ExecuteTime": {
     "end_time": "2025-01-26T18:27:18.797844Z",
     "start_time": "2025-01-26T18:27:18.791114Z"
    }
   },
   "outputs": [],
   "source": [
    "column_name = \"betweeness_centrality\"  # Name der Spalte anpassen\n",
    "df_centrality_metrics_merged = df_centrality_metrics.merge(\n",
    "    df_pc,\n",
    "    on=\"user_id\",\n",
    ")"
   ]
  },
  {
   "cell_type": "code",
   "execution_count": 21,
   "id": "cc41d42485006585",
   "metadata": {
    "ExecuteTime": {
     "end_time": "2025-01-26T18:27:47.989895Z",
     "start_time": "2025-01-26T18:27:47.986933Z"
    }
   },
   "outputs": [
    {
     "data": {
      "text/plain": [
       "0.07744536058720665"
      ]
     },
     "execution_count": 21,
     "metadata": {},
     "output_type": "execute_result"
    }
   ],
   "source": [
    "# Calculate correlation between betweenness and partition coefficient\n",
    "df_centrality_metrics_merged[\n",
    "    \"betweeness_centrality\"\n",
    "].corr(\n",
    "    df_centrality_metrics_merged[\n",
    "        \"partition_coefficient\"\n",
    "    ],\n",
    "    method=\"pearson\",\n",
    ")"
   ]
  },
  {
   "cell_type": "markdown",
   "id": "66ca66e26bf825c",
   "metadata": {},
   "source": "**Result**: There is no linear relationship between the betweenness centrality and the partition coefficient"
  }
 ],
 "metadata": {
  "kernelspec": {
   "display_name": "Python 3",
   "language": "python",
   "name": "python3"
  },
  "language_info": {
   "codemirror_mode": {
    "name": "ipython",
    "version": 2
   },
   "file_extension": ".py",
   "mimetype": "text/x-python",
   "name": "python",
   "nbconvert_exporter": "python",
   "pygments_lexer": "ipython2",
   "version": "2.7.6"
  }
 },
 "nbformat": 4,
 "nbformat_minor": 5
}
