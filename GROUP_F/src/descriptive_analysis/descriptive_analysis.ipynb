{
 "cells": [
  {
   "cell_type": "markdown",
   "id": "9613b23e1f2036b1",
   "metadata": {},
   "source": "# Social Network Analysis - Descriptive Analysis Notebook"
  },
  {
   "cell_type": "markdown",
   "id": "67377bfc78151fa0",
   "metadata": {},
   "source": "# 1. Imports"
  },
  {
   "cell_type": "code",
   "execution_count": 77,
   "id": "31b950a9079be844",
   "metadata": {
    "ExecuteTime": {
     "end_time": "2025-01-18T14:33:37.948151Z",
     "start_time": "2025-01-18T14:33:37.879394Z"
    }
   },
   "outputs": [],
   "source": [
    "import networkx as nx\n",
    "import pandas as pd\n",
    "import matplotlib.pyplot as plt"
   ]
  },
  {
   "cell_type": "markdown",
   "id": "f669f57d34d9e7a3",
   "metadata": {},
   "source": "# 2. Reading the source files"
  },
  {
   "cell_type": "code",
   "execution_count": 6,
   "id": "8a0493ad3f74f573",
   "metadata": {
    "ExecuteTime": {
     "end_time": "2025-01-18T12:42:11.122947Z",
     "start_time": "2025-01-18T12:42:10.982686Z"
    }
   },
   "outputs": [
    {
     "data": {
      "text/html": [
       "<div>\n",
       "<style scoped>\n",
       "    .dataframe tbody tr th:only-of-type {\n",
       "        vertical-align: middle;\n",
       "    }\n",
       "\n",
       "    .dataframe tbody tr th {\n",
       "        vertical-align: top;\n",
       "    }\n",
       "\n",
       "    .dataframe thead th {\n",
       "        text-align: right;\n",
       "    }\n",
       "</style>\n",
       "<table border=\"1\" class=\"dataframe\">\n",
       "  <thead>\n",
       "    <tr style=\"text-align: right;\">\n",
       "      <th></th>\n",
       "      <th>timestamp</th>\n",
       "      <th>text</th>\n",
       "      <th>text_id</th>\n",
       "      <th>user</th>\n",
       "      <th>user_id</th>\n",
       "    </tr>\n",
       "  </thead>\n",
       "  <tbody>\n",
       "    <tr>\n",
       "      <th>0</th>\n",
       "      <td>1730332800000</td>\n",
       "      <td>Running a business means juggling countless ad...</td>\n",
       "      <td>2018569761</td>\n",
       "      <td>danielwoodard</td>\n",
       "      <td>1077866112</td>\n",
       "    </tr>\n",
       "    <tr>\n",
       "      <th>1</th>\n",
       "      <td>1730332800000</td>\n",
       "      <td>Liz Truss is walking in the lingering shadow o...</td>\n",
       "      <td>2092717718</td>\n",
       "      <td>nelsonjacqueline</td>\n",
       "      <td>1089670430</td>\n",
       "    </tr>\n",
       "    <tr>\n",
       "      <th>2</th>\n",
       "      <td>1730332800000</td>\n",
       "      <td>The UK is bracing for war as government buildi...</td>\n",
       "      <td>2059143248</td>\n",
       "      <td>ihooper</td>\n",
       "      <td>1007478642</td>\n",
       "    </tr>\n",
       "    <tr>\n",
       "      <th>3</th>\n",
       "      <td>1730332800000</td>\n",
       "      <td>Marrying a second or third cousin once removed...</td>\n",
       "      <td>2008209828</td>\n",
       "      <td>wrightnicholas</td>\n",
       "      <td>1039258480</td>\n",
       "    </tr>\n",
       "    <tr>\n",
       "      <th>4</th>\n",
       "      <td>1730332800000</td>\n",
       "      <td>It's truly disgraceful how the Indian National...</td>\n",
       "      <td>2001239278</td>\n",
       "      <td>michael51</td>\n",
       "      <td>1021455936</td>\n",
       "    </tr>\n",
       "    <tr>\n",
       "      <th>...</th>\n",
       "      <td>...</td>\n",
       "      <td>...</td>\n",
       "      <td>...</td>\n",
       "      <td>...</td>\n",
       "      <td>...</td>\n",
       "    </tr>\n",
       "    <tr>\n",
       "      <th>70255</th>\n",
       "      <td>1730419192000</td>\n",
       "      <td>@bakerjulie: \"Saranghae, I’m your resident K-P...</td>\n",
       "      <td>2086649509</td>\n",
       "      <td>valdezjennifer</td>\n",
       "      <td>1094330726</td>\n",
       "    </tr>\n",
       "    <tr>\n",
       "      <th>70256</th>\n",
       "      <td>1730419192000</td>\n",
       "      <td>Soaring to new heights with @sweeneyanthony! T...</td>\n",
       "      <td>2039889186</td>\n",
       "      <td>nashshaun</td>\n",
       "      <td>1015245531</td>\n",
       "    </tr>\n",
       "    <tr>\n",
       "      <th>70257</th>\n",
       "      <td>1730419194000</td>\n",
       "      <td>Hey @james20 @paul47, did you see the latest f...</td>\n",
       "      <td>2020468196</td>\n",
       "      <td>brownregina</td>\n",
       "      <td>1029384492</td>\n",
       "    </tr>\n",
       "    <tr>\n",
       "      <th>70258</th>\n",
       "      <td>1730419198000</td>\n",
       "      <td>Check out the fundraiser exhibition by @joanna...</td>\n",
       "      <td>2037744299</td>\n",
       "      <td>dkey</td>\n",
       "      <td>1046050046</td>\n",
       "    </tr>\n",
       "    <tr>\n",
       "      <th>70259</th>\n",
       "      <td>1730419199000</td>\n",
       "      <td>The appointment of Rees Mogg as business secre...</td>\n",
       "      <td>2049747990</td>\n",
       "      <td>phernandez</td>\n",
       "      <td>1051978722</td>\n",
       "    </tr>\n",
       "  </tbody>\n",
       "</table>\n",
       "<p>70260 rows × 5 columns</p>\n",
       "</div>"
      ],
      "text/plain": [
       "           timestamp                                               text  \\\n",
       "0      1730332800000  Running a business means juggling countless ad...   \n",
       "1      1730332800000  Liz Truss is walking in the lingering shadow o...   \n",
       "2      1730332800000  The UK is bracing for war as government buildi...   \n",
       "3      1730332800000  Marrying a second or third cousin once removed...   \n",
       "4      1730332800000  It's truly disgraceful how the Indian National...   \n",
       "...              ...                                                ...   \n",
       "70255  1730419192000  @bakerjulie: \"Saranghae, I’m your resident K-P...   \n",
       "70256  1730419192000  Soaring to new heights with @sweeneyanthony! T...   \n",
       "70257  1730419194000  Hey @james20 @paul47, did you see the latest f...   \n",
       "70258  1730419198000  Check out the fundraiser exhibition by @joanna...   \n",
       "70259  1730419199000  The appointment of Rees Mogg as business secre...   \n",
       "\n",
       "          text_id              user     user_id  \n",
       "0      2018569761     danielwoodard  1077866112  \n",
       "1      2092717718  nelsonjacqueline  1089670430  \n",
       "2      2059143248           ihooper  1007478642  \n",
       "3      2008209828    wrightnicholas  1039258480  \n",
       "4      2001239278         michael51  1021455936  \n",
       "...           ...               ...         ...  \n",
       "70255  2086649509    valdezjennifer  1094330726  \n",
       "70256  2039889186         nashshaun  1015245531  \n",
       "70257  2020468196       brownregina  1029384492  \n",
       "70258  2037744299              dkey  1046050046  \n",
       "70259  2049747990        phernandez  1051978722  \n",
       "\n",
       "[70260 rows x 5 columns]"
      ]
     },
     "execution_count": 6,
     "metadata": {},
     "output_type": "execute_result"
    }
   ],
   "source": [
    "df_posts = pd.read_csv(\n",
    "    \"../data/dataset.csv\",\n",
    "    delimiter=\",\",\n",
    ")\n",
    "df_edges = pd.read_csv(\n",
    "    \"../data/graph.csv\",\n",
    "    delimiter=\",\",\n",
    ")"
   ]
  },
  {
   "cell_type": "markdown",
   "id": "a9f1650930cd7336",
   "metadata": {},
   "source": "# 3. Pre-Processing"
  },
  {
   "cell_type": "markdown",
   "id": "35b134e23f46b450",
   "metadata": {},
   "source": "## 3.1 Convert Unix-Timestamps into Timestamps of the format YYYY-MM-DD HH:MM:SS"
  },
  {
   "cell_type": "code",
   "execution_count": 20,
   "id": "9d37a735131f73a3",
   "metadata": {
    "ExecuteTime": {
     "end_time": "2025-01-18T12:56:42.698167Z",
     "start_time": "2025-01-18T12:56:42.684323Z"
    }
   },
   "outputs": [
    {
     "data": {
      "text/html": [
       "<div>\n",
       "<style scoped>\n",
       "    .dataframe tbody tr th:only-of-type {\n",
       "        vertical-align: middle;\n",
       "    }\n",
       "\n",
       "    .dataframe tbody tr th {\n",
       "        vertical-align: top;\n",
       "    }\n",
       "\n",
       "    .dataframe thead th {\n",
       "        text-align: right;\n",
       "    }\n",
       "</style>\n",
       "<table border=\"1\" class=\"dataframe\">\n",
       "  <thead>\n",
       "    <tr style=\"text-align: right;\">\n",
       "      <th></th>\n",
       "      <th>timestamp</th>\n",
       "      <th>text</th>\n",
       "      <th>text_id</th>\n",
       "      <th>user</th>\n",
       "      <th>user_id</th>\n",
       "      <th>hour</th>\n",
       "    </tr>\n",
       "  </thead>\n",
       "  <tbody>\n",
       "    <tr>\n",
       "      <th>0</th>\n",
       "      <td>2024-10-31 00:00:00+00:00</td>\n",
       "      <td>Running a business means juggling countless ad...</td>\n",
       "      <td>2018569761</td>\n",
       "      <td>danielwoodard</td>\n",
       "      <td>1077866112</td>\n",
       "      <td>0</td>\n",
       "    </tr>\n",
       "    <tr>\n",
       "      <th>1</th>\n",
       "      <td>2024-10-31 00:00:00+00:00</td>\n",
       "      <td>Liz Truss is walking in the lingering shadow o...</td>\n",
       "      <td>2092717718</td>\n",
       "      <td>nelsonjacqueline</td>\n",
       "      <td>1089670430</td>\n",
       "      <td>0</td>\n",
       "    </tr>\n",
       "    <tr>\n",
       "      <th>2</th>\n",
       "      <td>2024-10-31 00:00:00+00:00</td>\n",
       "      <td>The UK is bracing for war as government buildi...</td>\n",
       "      <td>2059143248</td>\n",
       "      <td>ihooper</td>\n",
       "      <td>1007478642</td>\n",
       "      <td>0</td>\n",
       "    </tr>\n",
       "    <tr>\n",
       "      <th>3</th>\n",
       "      <td>2024-10-31 00:00:00+00:00</td>\n",
       "      <td>Marrying a second or third cousin once removed...</td>\n",
       "      <td>2008209828</td>\n",
       "      <td>wrightnicholas</td>\n",
       "      <td>1039258480</td>\n",
       "      <td>0</td>\n",
       "    </tr>\n",
       "    <tr>\n",
       "      <th>4</th>\n",
       "      <td>2024-10-31 00:00:00+00:00</td>\n",
       "      <td>It's truly disgraceful how the Indian National...</td>\n",
       "      <td>2001239278</td>\n",
       "      <td>michael51</td>\n",
       "      <td>1021455936</td>\n",
       "      <td>0</td>\n",
       "    </tr>\n",
       "    <tr>\n",
       "      <th>5</th>\n",
       "      <td>2024-10-31 00:00:00+00:00</td>\n",
       "      <td>The schools are teaching kids about climate ch...</td>\n",
       "      <td>2068121373</td>\n",
       "      <td>ihooper</td>\n",
       "      <td>1007478642</td>\n",
       "      <td>0</td>\n",
       "    </tr>\n",
       "    <tr>\n",
       "      <th>6</th>\n",
       "      <td>2024-10-31 00:00:00+00:00</td>\n",
       "      <td>Making $20,780 every 5 days with Mrs. Stephani...</td>\n",
       "      <td>2018541552</td>\n",
       "      <td>ahenderson</td>\n",
       "      <td>1072983630</td>\n",
       "      <td>0</td>\n",
       "    </tr>\n",
       "    <tr>\n",
       "      <th>7</th>\n",
       "      <td>2024-10-31 00:00:00+00:00</td>\n",
       "      <td>@mckenzieestrada fights for women's rights but...</td>\n",
       "      <td>2083521261</td>\n",
       "      <td>mark89</td>\n",
       "      <td>1076049719</td>\n",
       "      <td>0</td>\n",
       "    </tr>\n",
       "    <tr>\n",
       "      <th>8</th>\n",
       "      <td>2024-10-31 00:00:00+00:00</td>\n",
       "      <td>@jonathanreynolds: SUNSHINE SUNSHINE SUNSHINE ...</td>\n",
       "      <td>2055945627</td>\n",
       "      <td>andrea21</td>\n",
       "      <td>1080017323</td>\n",
       "      <td>0</td>\n",
       "    </tr>\n",
       "    <tr>\n",
       "      <th>9</th>\n",
       "      <td>2024-10-31 00:00:00+00:00</td>\n",
       "      <td>Hey guys, instead of stealing toilets from Ukr...</td>\n",
       "      <td>2059294175</td>\n",
       "      <td>williamellis</td>\n",
       "      <td>1013529471</td>\n",
       "      <td>0</td>\n",
       "    </tr>\n",
       "  </tbody>\n",
       "</table>\n",
       "</div>"
      ],
      "text/plain": [
       "                  timestamp  \\\n",
       "0 2024-10-31 00:00:00+00:00   \n",
       "1 2024-10-31 00:00:00+00:00   \n",
       "2 2024-10-31 00:00:00+00:00   \n",
       "3 2024-10-31 00:00:00+00:00   \n",
       "4 2024-10-31 00:00:00+00:00   \n",
       "5 2024-10-31 00:00:00+00:00   \n",
       "6 2024-10-31 00:00:00+00:00   \n",
       "7 2024-10-31 00:00:00+00:00   \n",
       "8 2024-10-31 00:00:00+00:00   \n",
       "9 2024-10-31 00:00:00+00:00   \n",
       "\n",
       "                                                text     text_id  \\\n",
       "0  Running a business means juggling countless ad...  2018569761   \n",
       "1  Liz Truss is walking in the lingering shadow o...  2092717718   \n",
       "2  The UK is bracing for war as government buildi...  2059143248   \n",
       "3  Marrying a second or third cousin once removed...  2008209828   \n",
       "4  It's truly disgraceful how the Indian National...  2001239278   \n",
       "5  The schools are teaching kids about climate ch...  2068121373   \n",
       "6  Making $20,780 every 5 days with Mrs. Stephani...  2018541552   \n",
       "7  @mckenzieestrada fights for women's rights but...  2083521261   \n",
       "8  @jonathanreynolds: SUNSHINE SUNSHINE SUNSHINE ...  2055945627   \n",
       "9  Hey guys, instead of stealing toilets from Ukr...  2059294175   \n",
       "\n",
       "               user     user_id  hour  \n",
       "0     danielwoodard  1077866112     0  \n",
       "1  nelsonjacqueline  1089670430     0  \n",
       "2           ihooper  1007478642     0  \n",
       "3    wrightnicholas  1039258480     0  \n",
       "4         michael51  1021455936     0  \n",
       "5           ihooper  1007478642     0  \n",
       "6        ahenderson  1072983630     0  \n",
       "7            mark89  1076049719     0  \n",
       "8          andrea21  1080017323     0  \n",
       "9      williamellis  1013529471     0  "
      ]
     },
     "execution_count": 20,
     "metadata": {},
     "output_type": "execute_result"
    }
   ],
   "source": [
    "df_posts[\n",
    "    \"timestamp\"\n",
    "] = pd.to_datetime(\n",
    "    df_posts[\n",
    "        \"timestamp\"\n",
    "    ],\n",
    "    unit=\"ms\",\n",
    "    utc=True,\n",
    ")\n",
    "\n",
    "# Add column hour to count the number of posts for every hour\n",
    "df_posts[\"hour\"] = (\n",
    "    df_posts[\n",
    "        \"timestamp\"\n",
    "    ].dt.hour\n",
    ")\n",
    "\n",
    "df_posts.head(10)"
   ]
  },
  {
   "cell_type": "markdown",
   "id": "ec2182cb6508c3c9",
   "metadata": {},
   "source": [
    "## 4. Determine basic measures for the Social Network\n",
    "1. Number of posts from different perspectives:\n",
    "   1. Total number of posts\n",
    "   2. Total number of posts per hour\n",
    "   3. Total number of posts per user\n",
    "   4. Distribution of the number of posts\n",
    "\n",
    "2. Which nodes are the most important in the network?\n",
    "   1. Degree Centrality\n",
    "   2. Eigenvector Centrality\n",
    "   3. Katz/PageRank Centrality\n",
    "   4. Betweeness Centrality\n",
    "   5. Closeness Centrality\n"
   ]
  },
  {
   "cell_type": "markdown",
   "id": "df7fbf1a1e288fb7",
   "metadata": {},
   "source": "## 4.2 Total number of posts and posts per hour"
  },
  {
   "cell_type": "code",
   "execution_count": 23,
   "id": "2b37a4346175934f",
   "metadata": {
    "ExecuteTime": {
     "end_time": "2025-01-18T13:07:48.057148Z",
     "start_time": "2025-01-18T13:07:48.054314Z"
    }
   },
   "outputs": [
    {
     "name": "stdout",
     "output_type": "stream",
     "text": [
      "The dataset contains: 70260 posts.\n"
     ]
    }
   ],
   "source": [
    "total_number_of_posts = df_posts.shape[\n",
    "    0\n",
    "]\n",
    "print(\n",
    "    f\"The dataset contains: {total_number_of_posts} posts.\"\n",
    ")"
   ]
  },
  {
   "cell_type": "code",
   "execution_count": 24,
   "id": "2592ee677c2840b4",
   "metadata": {
    "ExecuteTime": {
     "end_time": "2025-01-18T13:08:46.662914Z",
     "start_time": "2025-01-18T13:08:46.521910Z"
    }
   },
   "outputs": [
    {
     "data": {
      "image/png": "[encoded data removed]",
      "text/plain": [
       "<Figure size 1000x600 with 1 Axes>"
      ]
     },
     "metadata": {},
     "output_type": "display_data"
    }
   ],
   "source": [
    "# Count the number of posts by counting tuples according to their value in the column 'hour'\n",
    "hourly_counts = df_posts.groupby(\n",
    "    \"hour\"\n",
    ").size()\n",
    "\n",
    "# Plot the result in a bar chart\n",
    "plt.figure(\n",
    "    figsize=(10, 6)\n",
    ")\n",
    "hourly_counts.plot(\n",
    "    kind=\"bar\",\n",
    "    color=\"skyblue\",\n",
    "    edgecolor=\"black\",\n",
    ")\n",
    "plt.title(\n",
    "    \"Number of Posts per Hour\",\n",
    "    fontsize=16,\n",
    ")\n",
    "plt.xlabel(\n",
    "    \"Hour of the Day (0-23)\",\n",
    "    fontsize=14,\n",
    ")\n",
    "plt.ylabel(\n",
    "    \"Number of Posts\",\n",
    "    fontsize=14,\n",
    ")\n",
    "plt.xticks(\n",
    "    rotation=0,\n",
    "    fontsize=12,\n",
    ")\n",
    "plt.yticks(\n",
    "    fontsize=12\n",
    ")\n",
    "plt.grid(\n",
    "    axis=\"y\",\n",
    "    linestyle=\"--\",\n",
    "    alpha=0.7,\n",
    ")\n",
    "plt.tight_layout()\n",
    "plt.show()\n",
    "\n",
    "# You can find the figure also in the directory docs!"
   ]
  },
  {
   "cell_type": "markdown",
   "id": "2221fc6a05aead21",
   "metadata": {},
   "source": "## 4.3 Total number of users/nodes"
  },
  {
   "cell_type": "code",
   "execution_count": 35,
   "id": "6d9b2d0481e83987",
   "metadata": {
    "ExecuteTime": {
     "end_time": "2025-01-18T13:25:11.621412Z",
     "start_time": "2025-01-18T13:25:11.589270Z"
    }
   },
   "outputs": [
    {
     "name": "stdout",
     "output_type": "stream",
     "text": [
      "The dataset contains: 46755 unique users\n"
     ]
    }
   ],
   "source": [
    "total_number_of_nodes = df_posts[\n",
    "    \"user_id\"\n",
    "].nunique()\n",
    "print(\n",
    "    f\"The dataset contains: {total_number_of_nodes} unique users\"\n",
    ")\n",
    "\n",
    "# Create a DataFrame with all unique users\n",
    "df_nodes = df_posts.drop_duplicates(\n",
    "    subset=[\n",
    "        \"user_id\"\n",
    "    ]\n",
    ")\n",
    "df_nodes.reset_index(\n",
    "    drop=True,\n",
    "    inplace=True,\n",
    ")\n",
    "df_nodes = df_nodes[\n",
    "    [\n",
    "        \"user_id\",\n",
    "        \"user\",\n",
    "    ]\n",
    "]\n",
    "\n",
    "# Store dataframe as CSV-File (Uncomment line below)\n",
    "# df_nodes.to_csv(\"../data/nodes.csv\", index=False, sep=\",\")"
   ]
  },
  {
   "cell_type": "markdown",
   "id": "5f760aff1a3aed1d",
   "metadata": {},
   "source": "## 4.4 Determine users with the most posts"
  },
  {
   "cell_type": "code",
   "execution_count": 51,
   "id": "337b63407471a51b",
   "metadata": {
    "ExecuteTime": {
     "end_time": "2025-01-18T13:39:01.629755Z",
     "start_time": "2025-01-18T13:39:01.447036Z"
    }
   },
   "outputs": [
    {
     "data": {
      "image/png": "[encoded data removed]",
      "text/plain": [
       "<Figure size 1000x600 with 1 Axes>"
      ]
     },
     "metadata": {},
     "output_type": "display_data"
    }
   ],
   "source": [
    "users_counts = (\n",
    "    df_posts.groupby(\n",
    "        \"user\"\n",
    "    )\n",
    "    .size()\n",
    "    .sort_values(\n",
    "        ascending=False\n",
    "    )\n",
    ")\n",
    "top_50_users = users_counts.nlargest(\n",
    "    50\n",
    ")\n",
    "\n",
    "plt.figure(\n",
    "    figsize=(10, 6)\n",
    ")\n",
    "top_50_users.plot(\n",
    "    kind=\"bar\",\n",
    "    color=\"skyblue\",\n",
    "    edgecolor=\"black\",\n",
    ")\n",
    "plt.title(\n",
    "    \"Number of Posts per User [Top 50 Users]\",\n",
    "    fontsize=16,\n",
    ")\n",
    "plt.xlabel(\n",
    "    \"User\",\n",
    "    fontsize=14,\n",
    ")\n",
    "plt.ylabel(\n",
    "    \"Number of Posts\",\n",
    "    fontsize=14,\n",
    ")\n",
    "plt.xticks(\n",
    "    rotation=90,\n",
    "    fontsize=10,\n",
    ")\n",
    "plt.yticks(\n",
    "    fontsize=12\n",
    ")\n",
    "plt.grid(\n",
    "    axis=\"y\",\n",
    "    linestyle=\"--\",\n",
    "    alpha=0.7,\n",
    ")\n",
    "plt.tight_layout()\n",
    "plt.savefig(\n",
    "    \"../docs/number_of_posts_per_user_top_50.png\"\n",
    ")"
   ]
  },
  {
   "cell_type": "markdown",
   "id": "c9134a8a1584dd45",
   "metadata": {},
   "source": "# 5. Determine the most popluar user according to centrality measures"
  },
  {
   "cell_type": "markdown",
   "id": "ef3b38a3ce5ef93a",
   "metadata": {},
   "source": "## Process nodes and edges from the dataset\n"
  },
  {
   "cell_type": "code",
   "execution_count": 57,
   "id": "f3670b28d4002816",
   "metadata": {
    "ExecuteTime": {
     "end_time": "2025-01-18T14:01:38.587222Z",
     "start_time": "2025-01-18T14:01:38.520668Z"
    }
   },
   "outputs": [],
   "source": [
    "G = nx.from_pandas_edgelist(\n",
    "    df_edges,\n",
    "    source=\"source\",\n",
    "    target=\"target\",\n",
    ")"
   ]
  },
  {
   "cell_type": "markdown",
   "id": "63d65cfc8366bbbe",
   "metadata": {},
   "source": "## 5.1 Degree Centrality"
  },
  {
   "cell_type": "code",
   "execution_count": 73,
   "id": "834f7786077332c9",
   "metadata": {
    "ExecuteTime": {
     "end_time": "2025-01-18T14:24:16.600045Z",
     "start_time": "2025-01-18T14:24:16.586811Z"
    }
   },
   "outputs": [],
   "source": [
    "degree_centrality = nx.degree_centrality(\n",
    "    G\n",
    ")"
   ]
  },
  {
   "cell_type": "markdown",
   "id": "df6830ec83409531",
   "metadata": {},
   "source": "## 5.2 Eigenvector Centrality"
  },
  {
   "cell_type": "code",
   "id": "a83567ce4b421523",
   "metadata": {
    "ExecuteTime": {
     "end_time": "2025-01-18T15:38:40.075782Z",
     "start_time": "2025-01-18T15:38:40.074045Z"
    }
   },
   "source": [
    "eigenvector_centrality = nx.eigenvector_centrality(\n",
    "    G,\n",
    "    max_iter=1000,\n",
    "    tol=1e-06,\n",
    "    weight=\"weight\",\n",
    ")"
   ],
   "outputs": [],
   "execution_count": 115
  },
  {
   "cell_type": "markdown",
   "id": "e7c8e28b474f1352",
   "metadata": {},
   "source": "## 5.3 Page-Rank Centrality"
  },
  {
   "cell_type": "code",
   "execution_count": 67,
   "id": "5e23114f9f86ca7",
   "metadata": {
    "ExecuteTime": {
     "end_time": "2025-01-18T14:15:58.600799Z",
     "start_time": "2025-01-18T14:15:58.519783Z"
    }
   },
   "outputs": [],
   "source": [
    "p_rank = nx.pagerank(\n",
    "    G,\n",
    "    alpha=0.85,\n",
    "    max_iter=100,\n",
    "    tol=1e-06,\n",
    "    weight=\"weight\",\n",
    ")"
   ]
  },
  {
   "cell_type": "markdown",
   "id": "cb89e42634af180a",
   "metadata": {},
   "source": "## 5.4 Betweenese Centrality"
  },
  {
   "cell_type": "code",
   "execution_count": 92,
   "id": "1e4bae1b7b8bc83e",
   "metadata": {
    "ExecuteTime": {
     "end_time": "2025-01-18T15:14:31.283548Z",
     "start_time": "2025-01-18T15:14:31.282097Z"
    }
   },
   "outputs": [],
   "source": [
    "# Takes very long #TO-DO\n",
    "betweenness_centrality = nx.betweenness_centrality(\n",
    "    G\n",
    ")"
   ]
  },
  {
   "cell_type": "markdown",
   "id": "41073c357a955f6e",
   "metadata": {},
   "source": "## 5.5 Closeness Centrality"
  },
  {
   "cell_type": "code",
   "execution_count": 93,
   "id": "3b6071e45a9d4f24",
   "metadata": {
    "ExecuteTime": {
     "end_time": "2025-01-18T15:15:03.558398Z",
     "start_time": "2025-01-18T15:15:03.556575Z"
    }
   },
   "outputs": [],
   "source": [
    "# Takes very long as well #TO-DO\n",
    "closeness_centrality = nx.closeness_centrality(\n",
    "    G\n",
    ")"
   ]
  },
  {
   "cell_type": "markdown",
   "id": "ae66f9f67ed38f5d",
   "metadata": {},
   "source": "## 5.6 Visualize Results\n"
  },
  {
   "cell_type": "code",
   "execution_count": 103,
   "id": "8a1cd5e122df2669",
   "metadata": {
    "ExecuteTime": {
     "end_time": "2025-01-18T15:23:42.435984Z",
     "start_time": "2025-01-18T15:23:42.433737Z"
    }
   },
   "outputs": [],
   "source": [
    "# Define function for creating a DataFrame based on the centrality algorithm\n",
    "def create_df_from_centrality(\n",
    "    keys: list,\n",
    "    values: list,\n",
    "    algorithm_name: str,\n",
    ") -> pd.DataFrame:\n",
    "    data = {\n",
    "        \"user_id\": keys,\n",
    "        f\"{algorithm_name}_values\": values,\n",
    "    }\n",
    "    return pd.DataFrame(\n",
    "        data\n",
    "    )"
   ]
  },
  {
   "cell_type": "code",
   "execution_count": 104,
   "id": "d1e5f6dd8d5a9000",
   "metadata": {
    "ExecuteTime": {
     "end_time": "2025-01-18T15:23:43.617956Z",
     "start_time": "2025-01-18T15:23:43.615517Z"
    }
   },
   "outputs": [],
   "source": [
    "# Store keys (user_ids) and ranks for all algorithms\n",
    "\n",
    "# 1. Degree Centrality\n",
    "degree_keys = degree_centrality.keys()\n",
    "degree_values = degree_centrality.values()\n",
    "\n",
    "# 2. Eigenvector Centrality\n",
    "ev_keys = eigenvector_centrality.keys()\n",
    "ev_values = eigenvector_centrality.values()\n",
    "\n",
    "# 3. PageRank Centrality\n",
    "p_rank_keys = (\n",
    "    p_rank.keys()\n",
    ")\n",
    "p_rank_values = (\n",
    "    p_rank.values()\n",
    ")"
   ]
  },
  {
   "cell_type": "code",
   "execution_count": 105,
   "id": "db9d4602feecbee4",
   "metadata": {
    "ExecuteTime": {
     "end_time": "2025-01-18T15:23:44.441975Z",
     "start_time": "2025-01-18T15:23:44.418069Z"
    }
   },
   "outputs": [],
   "source": [
    "# Create DataFrames for all algorithms\n",
    "df_degree_centrality = create_df_from_centrality(\n",
    "    degree_keys,\n",
    "    degree_values,\n",
    "    \"degree_centrality\",\n",
    ")\n",
    "df_ev_centrality = create_df_from_centrality(\n",
    "    ev_keys,\n",
    "    ev_values,\n",
    "    \"eigenvector_centrality\",\n",
    ")\n",
    "df_page_rank = create_df_from_centrality(\n",
    "    p_rank_keys,\n",
    "    p_rank_values,\n",
    "    \"page_rank_centrality\",\n",
    ")"
   ]
  },
  {
   "cell_type": "code",
   "execution_count": 113,
   "id": "97c86f311d12f39d",
   "metadata": {
    "ExecuteTime": {
     "end_time": "2025-01-18T15:26:12.418962Z",
     "start_time": "2025-01-18T15:26:12.320102Z"
    }
   },
   "outputs": [],
   "source": [
    "# Merge all dataframes and add username to see results with all algorithms\n",
    "df_merge = pd.merge(\n",
    "    df_degree_centrality,\n",
    "    df_ev_centrality,\n",
    "    on=\"user_id\",\n",
    ")\n",
    "df_merge = pd.merge(\n",
    "    df_merge,\n",
    "    df_page_rank,\n",
    "    on=\"user_id\",\n",
    ")\n",
    "df_merge_with_usernames = pd.merge(\n",
    "    df_merge,\n",
    "    df_nodes,\n",
    "    on=\"user_id\",\n",
    ")\n",
    "\n",
    "# Alter column order\n",
    "df_merge_with_usernames = df_merge_with_usernames[\n",
    "    [\n",
    "        \"user\",\n",
    "        \"user_id\",\n",
    "        \"degree_centrality_values\",\n",
    "        \"eigenvector_centrality_values\",\n",
    "        \"page_rank_centrality_values\",\n",
    "    ]\n",
    "]\n",
    "df_merge_with_usernames.head(\n",
    "    10\n",
    ")\n",
    "\n",
    "# Store as CSV-File (Uncomment line below)\n",
    "# df_merge_with_usernames.to_csv(\"../data/centrality_measures.csv\", index=False, sep=\",\")"
   ]
  },
  {
   "cell_type": "code",
   "execution_count": 112,
   "id": "79d36f3714317ba8",
   "metadata": {
    "ExecuteTime": {
     "end_time": "2025-01-18T15:25:10.212252Z",
     "start_time": "2025-01-18T15:25:10.205547Z"
    }
   },
   "outputs": [
    {
     "data": {
      "text/html": [
       "<div>\n",
       "<style scoped>\n",
       "    .dataframe tbody tr th:only-of-type {\n",
       "        vertical-align: middle;\n",
       "    }\n",
       "\n",
       "    .dataframe tbody tr th {\n",
       "        vertical-align: top;\n",
       "    }\n",
       "\n",
       "    .dataframe thead th {\n",
       "        text-align: right;\n",
       "    }\n",
       "</style>\n",
       "<table border=\"1\" class=\"dataframe\">\n",
       "  <thead>\n",
       "    <tr style=\"text-align: right;\">\n",
       "      <th></th>\n",
       "      <th>user</th>\n",
       "      <th>user_id</th>\n",
       "      <th>degree_centrality_values</th>\n",
       "    </tr>\n",
       "  </thead>\n",
       "  <tbody>\n",
       "    <tr>\n",
       "      <th>100</th>\n",
       "      <td>robert78</td>\n",
       "      <td>1010626427</td>\n",
       "      <td>0.038145</td>\n",
       "    </tr>\n",
       "    <tr>\n",
       "      <th>35708</th>\n",
       "      <td>rharris</td>\n",
       "      <td>1027710225</td>\n",
       "      <td>0.001131</td>\n",
       "    </tr>\n",
       "    <tr>\n",
       "      <th>27392</th>\n",
       "      <td>davisjonathan</td>\n",
       "      <td>1018042330</td>\n",
       "      <td>0.001046</td>\n",
       "    </tr>\n",
       "    <tr>\n",
       "      <th>29250</th>\n",
       "      <td>reidelizabeth</td>\n",
       "      <td>1030048137</td>\n",
       "      <td>0.001046</td>\n",
       "    </tr>\n",
       "    <tr>\n",
       "      <th>0</th>\n",
       "      <td>eleonard</td>\n",
       "      <td>1084949174</td>\n",
       "      <td>0.000982</td>\n",
       "    </tr>\n",
       "    <tr>\n",
       "      <th>20081</th>\n",
       "      <td>edwardcabrera</td>\n",
       "      <td>1090990902</td>\n",
       "      <td>0.000982</td>\n",
       "    </tr>\n",
       "    <tr>\n",
       "      <th>45518</th>\n",
       "      <td>jenniferbenton</td>\n",
       "      <td>1059101695</td>\n",
       "      <td>0.000982</td>\n",
       "    </tr>\n",
       "    <tr>\n",
       "      <th>19681</th>\n",
       "      <td>owood</td>\n",
       "      <td>1066276793</td>\n",
       "      <td>0.000982</td>\n",
       "    </tr>\n",
       "    <tr>\n",
       "      <th>35195</th>\n",
       "      <td>scottdaniels</td>\n",
       "      <td>1047703640</td>\n",
       "      <td>0.000961</td>\n",
       "    </tr>\n",
       "    <tr>\n",
       "      <th>5344</th>\n",
       "      <td>gmorgan</td>\n",
       "      <td>1004360689</td>\n",
       "      <td>0.000918</td>\n",
       "    </tr>\n",
       "  </tbody>\n",
       "</table>\n",
       "</div>"
      ],
      "text/plain": [
       "                 user     user_id  degree_centrality_values\n",
       "100          robert78  1010626427                  0.038145\n",
       "35708         rharris  1027710225                  0.001131\n",
       "27392   davisjonathan  1018042330                  0.001046\n",
       "29250   reidelizabeth  1030048137                  0.001046\n",
       "0            eleonard  1084949174                  0.000982\n",
       "20081   edwardcabrera  1090990902                  0.000982\n",
       "45518  jenniferbenton  1059101695                  0.000982\n",
       "19681           owood  1066276793                  0.000982\n",
       "35195    scottdaniels  1047703640                  0.000961\n",
       "5344          gmorgan  1004360689                  0.000918"
      ]
     },
     "execution_count": 112,
     "metadata": {},
     "output_type": "execute_result"
    }
   ],
   "source": [
    "# Plot Top 10 most popular nodes for each algorithm - Degree Centrality\n",
    "df_merge_with_usernames[\n",
    "    [\n",
    "        \"user\",\n",
    "        \"user_id\",\n",
    "        \"degree_centrality_values\",\n",
    "    ]\n",
    "].sort_values(\n",
    "    by=[\n",
    "        \"degree_centrality_values\"\n",
    "    ],\n",
    "    ascending=False,\n",
    ").head(10)"
   ]
  },
  {
   "cell_type": "code",
   "execution_count": 111,
   "id": "7b8fe4d82db751b6",
   "metadata": {
    "ExecuteTime": {
     "end_time": "2025-01-18T15:24:38.433254Z",
     "start_time": "2025-01-18T15:24:38.424513Z"
    }
   },
   "outputs": [
    {
     "data": {
      "text/html": [
       "<div>\n",
       "<style scoped>\n",
       "    .dataframe tbody tr th:only-of-type {\n",
       "        vertical-align: middle;\n",
       "    }\n",
       "\n",
       "    .dataframe tbody tr th {\n",
       "        vertical-align: top;\n",
       "    }\n",
       "\n",
       "    .dataframe thead th {\n",
       "        text-align: right;\n",
       "    }\n",
       "</style>\n",
       "<table border=\"1\" class=\"dataframe\">\n",
       "  <thead>\n",
       "    <tr style=\"text-align: right;\">\n",
       "      <th></th>\n",
       "      <th>user</th>\n",
       "      <th>user_id</th>\n",
       "      <th>eigenvector_centrality_values</th>\n",
       "    </tr>\n",
       "  </thead>\n",
       "  <tbody>\n",
       "    <tr>\n",
       "      <th>100</th>\n",
       "      <td>robert78</td>\n",
       "      <td>1010626427</td>\n",
       "      <td>0.705877</td>\n",
       "    </tr>\n",
       "    <tr>\n",
       "      <th>27129</th>\n",
       "      <td>matthew61</td>\n",
       "      <td>1040707594</td>\n",
       "      <td>0.018931</td>\n",
       "    </tr>\n",
       "    <tr>\n",
       "      <th>32020</th>\n",
       "      <td>davidcurry</td>\n",
       "      <td>1015059112</td>\n",
       "      <td>0.018278</td>\n",
       "    </tr>\n",
       "    <tr>\n",
       "      <th>32827</th>\n",
       "      <td>katherinejones</td>\n",
       "      <td>1078234461</td>\n",
       "      <td>0.018213</td>\n",
       "    </tr>\n",
       "    <tr>\n",
       "      <th>42671</th>\n",
       "      <td>khenry</td>\n",
       "      <td>1071714676</td>\n",
       "      <td>0.018164</td>\n",
       "    </tr>\n",
       "    <tr>\n",
       "      <th>27152</th>\n",
       "      <td>kduncan</td>\n",
       "      <td>1074299054</td>\n",
       "      <td>0.017955</td>\n",
       "    </tr>\n",
       "    <tr>\n",
       "      <th>27839</th>\n",
       "      <td>whitneydanielle</td>\n",
       "      <td>1039466578</td>\n",
       "      <td>0.017953</td>\n",
       "    </tr>\n",
       "    <tr>\n",
       "      <th>27130</th>\n",
       "      <td>adam83</td>\n",
       "      <td>1014140623</td>\n",
       "      <td>0.017855</td>\n",
       "    </tr>\n",
       "    <tr>\n",
       "      <th>30978</th>\n",
       "      <td>linda10</td>\n",
       "      <td>1014718318</td>\n",
       "      <td>0.017756</td>\n",
       "    </tr>\n",
       "    <tr>\n",
       "      <th>26617</th>\n",
       "      <td>awhite</td>\n",
       "      <td>1080554837</td>\n",
       "      <td>0.017682</td>\n",
       "    </tr>\n",
       "  </tbody>\n",
       "</table>\n",
       "</div>"
      ],
      "text/plain": [
       "                  user     user_id  eigenvector_centrality_values\n",
       "100           robert78  1010626427                       0.705877\n",
       "27129        matthew61  1040707594                       0.018931\n",
       "32020       davidcurry  1015059112                       0.018278\n",
       "32827   katherinejones  1078234461                       0.018213\n",
       "42671           khenry  1071714676                       0.018164\n",
       "27152          kduncan  1074299054                       0.017955\n",
       "27839  whitneydanielle  1039466578                       0.017953\n",
       "27130           adam83  1014140623                       0.017855\n",
       "30978          linda10  1014718318                       0.017756\n",
       "26617           awhite  1080554837                       0.017682"
      ]
     },
     "execution_count": 111,
     "metadata": {},
     "output_type": "execute_result"
    }
   ],
   "source": [
    "df_merge_with_usernames[\n",
    "    [\n",
    "        \"user\",\n",
    "        \"user_id\",\n",
    "        \"eigenvector_centrality_values\",\n",
    "    ]\n",
    "].sort_values(\n",
    "    by=[\n",
    "        \"eigenvector_centrality_values\"\n",
    "    ],\n",
    "    ascending=False,\n",
    ").head(10)"
   ]
  },
  {
   "cell_type": "code",
   "execution_count": 109,
   "id": "5acb480845e39e13",
   "metadata": {
    "ExecuteTime": {
     "end_time": "2025-01-18T15:23:54.771532Z",
     "start_time": "2025-01-18T15:23:54.759805Z"
    }
   },
   "outputs": [
    {
     "data": {
      "text/html": [
       "<div>\n",
       "<style scoped>\n",
       "    .dataframe tbody tr th:only-of-type {\n",
       "        vertical-align: middle;\n",
       "    }\n",
       "\n",
       "    .dataframe tbody tr th {\n",
       "        vertical-align: top;\n",
       "    }\n",
       "\n",
       "    .dataframe thead th {\n",
       "        text-align: right;\n",
       "    }\n",
       "</style>\n",
       "<table border=\"1\" class=\"dataframe\">\n",
       "  <thead>\n",
       "    <tr style=\"text-align: right;\">\n",
       "      <th></th>\n",
       "      <th>user</th>\n",
       "      <th>user_id</th>\n",
       "      <th>page_rank_centrality_values</th>\n",
       "    </tr>\n",
       "  </thead>\n",
       "  <tbody>\n",
       "    <tr>\n",
       "      <th>100</th>\n",
       "      <td>robert78</td>\n",
       "      <td>1010626427</td>\n",
       "      <td>0.007360</td>\n",
       "    </tr>\n",
       "    <tr>\n",
       "      <th>35708</th>\n",
       "      <td>rharris</td>\n",
       "      <td>1027710225</td>\n",
       "      <td>0.000243</td>\n",
       "    </tr>\n",
       "    <tr>\n",
       "      <th>29250</th>\n",
       "      <td>reidelizabeth</td>\n",
       "      <td>1030048137</td>\n",
       "      <td>0.000226</td>\n",
       "    </tr>\n",
       "    <tr>\n",
       "      <th>27392</th>\n",
       "      <td>davisjonathan</td>\n",
       "      <td>1018042330</td>\n",
       "      <td>0.000221</td>\n",
       "    </tr>\n",
       "    <tr>\n",
       "      <th>20081</th>\n",
       "      <td>edwardcabrera</td>\n",
       "      <td>1090990902</td>\n",
       "      <td>0.000212</td>\n",
       "    </tr>\n",
       "    <tr>\n",
       "      <th>19681</th>\n",
       "      <td>owood</td>\n",
       "      <td>1066276793</td>\n",
       "      <td>0.000211</td>\n",
       "    </tr>\n",
       "    <tr>\n",
       "      <th>45518</th>\n",
       "      <td>jenniferbenton</td>\n",
       "      <td>1059101695</td>\n",
       "      <td>0.000209</td>\n",
       "    </tr>\n",
       "    <tr>\n",
       "      <th>0</th>\n",
       "      <td>eleonard</td>\n",
       "      <td>1084949174</td>\n",
       "      <td>0.000208</td>\n",
       "    </tr>\n",
       "    <tr>\n",
       "      <th>35195</th>\n",
       "      <td>scottdaniels</td>\n",
       "      <td>1047703640</td>\n",
       "      <td>0.000204</td>\n",
       "    </tr>\n",
       "    <tr>\n",
       "      <th>21998</th>\n",
       "      <td>tclark</td>\n",
       "      <td>1013723210</td>\n",
       "      <td>0.000199</td>\n",
       "    </tr>\n",
       "  </tbody>\n",
       "</table>\n",
       "</div>"
      ],
      "text/plain": [
       "                 user     user_id  page_rank_centrality_values\n",
       "100          robert78  1010626427                     0.007360\n",
       "35708         rharris  1027710225                     0.000243\n",
       "29250   reidelizabeth  1030048137                     0.000226\n",
       "27392   davisjonathan  1018042330                     0.000221\n",
       "20081   edwardcabrera  1090990902                     0.000212\n",
       "19681           owood  1066276793                     0.000211\n",
       "45518  jenniferbenton  1059101695                     0.000209\n",
       "0            eleonard  1084949174                     0.000208\n",
       "35195    scottdaniels  1047703640                     0.000204\n",
       "21998          tclark  1013723210                     0.000199"
      ]
     },
     "execution_count": 109,
     "metadata": {},
     "output_type": "execute_result"
    }
   ],
   "source": [
    "df_merge_with_usernames[\n",
    "    [\n",
    "        \"user\",\n",
    "        \"user_id\",\n",
    "        \"page_rank_centrality_values\",\n",
    "    ]\n",
    "].sort_values(\n",
    "    by=[\n",
    "        \"page_rank_centrality_values\"\n",
    "    ],\n",
    "    ascending=False,\n",
    ").head(10)"
   ]
  }
 ],
 "metadata": {
  "kernelspec": {
   "display_name": "Python 3",
   "language": "python",
   "name": "python3"
  },
  "language_info": {
   "codemirror_mode": {
    "name": "ipython",
    "version": 2
   },
   "file_extension": ".py",
   "mimetype": "text/x-python",
   "name": "python",
   "nbconvert_exporter": "python",
   "pygments_lexer": "ipython2",
   "version": "2.7.6"
  }
 },
 "nbformat": 4,
 "nbformat_minor": 5
}
